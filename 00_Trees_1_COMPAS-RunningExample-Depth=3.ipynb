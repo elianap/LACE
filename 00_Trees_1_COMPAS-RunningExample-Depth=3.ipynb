{
 "cells": [
  {
   "cell_type": "code",
   "execution_count": 1,
   "metadata": {
    "ExecuteTime": {
     "end_time": "2021-06-29T13:21:33.364315Z",
     "start_time": "2021-06-29T13:21:32.838102Z"
    }
   },
   "outputs": [],
   "source": [
    "import numpy as np\n",
    "import pandas as pd\n",
    "pd.set_option('display.max_colwidth', None)"
   ]
  },
  {
   "cell_type": "code",
   "execution_count": 2,
   "metadata": {
    "ExecuteTime": {
     "end_time": "2021-06-29T13:21:33.373403Z",
     "start_time": "2021-06-29T13:21:33.366906Z"
    }
   },
   "outputs": [],
   "source": [
    "toCompute=True"
   ]
  },
  {
   "cell_type": "code",
   "execution_count": 3,
   "metadata": {
    "ExecuteTime": {
     "end_time": "2021-06-29T13:21:33.383148Z",
     "start_time": "2021-06-29T13:21:33.376382Z"
    }
   },
   "outputs": [],
   "source": [
    "classifier_name=\"tree\"\n",
    "max_depth=3"
   ]
  },
  {
   "cell_type": "markdown",
   "metadata": {},
   "source": [
    "# Import dataset"
   ]
  },
  {
   "cell_type": "code",
   "execution_count": 4,
   "metadata": {
    "ExecuteTime": {
     "end_time": "2021-06-29T13:21:33.396077Z",
     "start_time": "2021-06-29T13:21:33.386049Z"
    }
   },
   "outputs": [],
   "source": [
    "dataset_name=\"compas\"\n",
    "results_output=\"results/results_tree/figures\""
   ]
  },
  {
   "cell_type": "code",
   "execution_count": 5,
   "metadata": {
    "ExecuteTime": {
     "end_time": "2021-06-29T13:21:33.411431Z",
     "start_time": "2021-06-29T13:21:33.398324Z"
    }
   },
   "outputs": [],
   "source": [
    "outputDirResults=f\"./{results_output}/{dataset_name}/{classifier_name}/\"\n",
    "saveResults=True\n",
    "\n",
    "if saveResults:\n",
    "    from src.utils import saveJson\n",
    "    from pathlib import Path\n",
    "    Path(outputDirResults).mkdir(parents=True, exist_ok=True)"
   ]
  },
  {
   "cell_type": "code",
   "execution_count": 6,
   "metadata": {
    "ExecuteTime": {
     "end_time": "2021-06-29T13:21:34.384029Z",
     "start_time": "2021-06-29T13:21:33.413702Z"
    }
   },
   "outputs": [
    {
     "data": {
      "text/html": [
       "<div>\n",
       "<style scoped>\n",
       "    .dataframe tbody tr th:only-of-type {\n",
       "        vertical-align: middle;\n",
       "    }\n",
       "\n",
       "    .dataframe tbody tr th {\n",
       "        vertical-align: top;\n",
       "    }\n",
       "\n",
       "    .dataframe thead th {\n",
       "        text-align: right;\n",
       "    }\n",
       "</style>\n",
       "<table border=\"1\" class=\"dataframe\">\n",
       "  <thead>\n",
       "    <tr style=\"text-align: right;\">\n",
       "      <th></th>\n",
       "      <th>age_cat</th>\n",
       "      <th>c_charge_degree</th>\n",
       "      <th>race</th>\n",
       "      <th>sex</th>\n",
       "      <th>class</th>\n",
       "      <th>priors_count</th>\n",
       "      <th>length_of_stay</th>\n",
       "    </tr>\n",
       "  </thead>\n",
       "  <tbody>\n",
       "    <tr>\n",
       "      <th>0</th>\n",
       "      <td>Greater than 45</td>\n",
       "      <td>F</td>\n",
       "      <td>Other</td>\n",
       "      <td>Male</td>\n",
       "      <td>Not recidivate</td>\n",
       "      <td>0</td>\n",
       "      <td>1.0</td>\n",
       "    </tr>\n",
       "    <tr>\n",
       "      <th>1</th>\n",
       "      <td>25 - 45</td>\n",
       "      <td>F</td>\n",
       "      <td>African-American</td>\n",
       "      <td>Male</td>\n",
       "      <td>Recidivate</td>\n",
       "      <td>0</td>\n",
       "      <td>10.0</td>\n",
       "    </tr>\n",
       "    <tr>\n",
       "      <th>2</th>\n",
       "      <td>Less than 25</td>\n",
       "      <td>F</td>\n",
       "      <td>African-American</td>\n",
       "      <td>Male</td>\n",
       "      <td>Recidivate</td>\n",
       "      <td>4</td>\n",
       "      <td>1.0</td>\n",
       "    </tr>\n",
       "    <tr>\n",
       "      <th>3</th>\n",
       "      <td>25 - 45</td>\n",
       "      <td>M</td>\n",
       "      <td>Other</td>\n",
       "      <td>Male</td>\n",
       "      <td>Not recidivate</td>\n",
       "      <td>0</td>\n",
       "      <td>1.0</td>\n",
       "    </tr>\n",
       "    <tr>\n",
       "      <th>4</th>\n",
       "      <td>25 - 45</td>\n",
       "      <td>F</td>\n",
       "      <td>Caucasian</td>\n",
       "      <td>Male</td>\n",
       "      <td>Recidivate</td>\n",
       "      <td>14</td>\n",
       "      <td>6.0</td>\n",
       "    </tr>\n",
       "  </tbody>\n",
       "</table>\n",
       "</div>"
      ],
      "text/plain": [
       "           age_cat c_charge_degree              race   sex           class  \\\n",
       "0  Greater than 45               F             Other  Male  Not recidivate   \n",
       "1          25 - 45               F  African-American  Male      Recidivate   \n",
       "2     Less than 25               F  African-American  Male      Recidivate   \n",
       "3          25 - 45               M             Other  Male  Not recidivate   \n",
       "4          25 - 45               F         Caucasian  Male      Recidivate   \n",
       "\n",
       "   priors_count  length_of_stay  \n",
       "0             0             1.0  \n",
       "1             0            10.0  \n",
       "2             4             1.0  \n",
       "3             0             1.0  \n",
       "4            14             6.0  "
      ]
     },
     "execution_count": 6,
     "metadata": {},
     "output_type": "execute_result"
    }
   ],
   "source": [
    "from src.import_datasets import import_process_compas\n",
    "risk_class_type=False\n",
    "dfI =import_process_compas(discretize=False, risk_class=risk_class_type)\n",
    "dfI.reset_index(drop=True, inplace=True)\n",
    "dfI[\"class\"].replace({0:\"Not recidivate\", 1:\"Recidivate\"}, inplace=True)\n",
    "df=dfI.copy()\n",
    "df.head()"
   ]
  },
  {
   "cell_type": "code",
   "execution_count": 7,
   "metadata": {
    "ExecuteTime": {
     "end_time": "2021-06-29T13:21:34.405667Z",
     "start_time": "2021-06-29T13:21:34.385885Z"
    }
   },
   "outputs": [],
   "source": [
    "from sklearn import model_selection\n",
    "import numpy as np\n",
    "\n",
    "np.random.seed(42)\n",
    "df_train, df_test = model_selection.train_test_split(df, train_size=0.7)"
   ]
  },
  {
   "cell_type": "markdown",
   "metadata": {},
   "source": [
    "# Process data"
   ]
  },
  {
   "cell_type": "code",
   "execution_count": 8,
   "metadata": {
    "ExecuteTime": {
     "end_time": "2021-06-29T13:21:34.411447Z",
     "start_time": "2021-06-29T13:21:34.408237Z"
    }
   },
   "outputs": [],
   "source": [
    "from ProcessedDataset_v2 import ProcessedDatasetTrainTest"
   ]
  },
  {
   "cell_type": "code",
   "execution_count": 9,
   "metadata": {
    "ExecuteTime": {
     "end_time": "2021-06-29T13:21:34.565889Z",
     "start_time": "2021-06-29T13:21:34.413613Z"
    }
   },
   "outputs": [],
   "source": [
    "pc = ProcessedDatasetTrainTest(df_train, df_test)\n",
    "\n",
    "from sklearn.tree import DecisionTreeClassifier\n",
    "clf_init = DecisionTreeClassifier(random_state=7, max_depth=max_depth)\n",
    "pc.processTrainTestDataset(clf_init, dataset_name=dataset_name)"
   ]
  },
  {
   "cell_type": "code",
   "execution_count": 10,
   "metadata": {
    "ExecuteTime": {
     "end_time": "2021-06-29T13:21:34.590186Z",
     "start_time": "2021-06-29T13:21:34.572529Z"
    }
   },
   "outputs": [],
   "source": [
    "predicted=np.argmax(pc.predict_fn(pc.test.values), axis=1)\n",
    "FP=[i for i,p in enumerate(predicted) if p==1 and pc.labels_test[i]==0]\n",
    "FN=[i for i,p in enumerate(predicted) if p==0 and pc.labels_test[i]==1]\n",
    "mispredicted=[i for i,p in enumerate(predicted) if p!=pc.labels_test[i]]\n",
    "correct_prediction=[i for i,p in enumerate(predicted) if p==pc.labels_test[i]]"
   ]
  },
  {
   "cell_type": "code",
   "execution_count": 11,
   "metadata": {
    "ExecuteTime": {
     "end_time": "2021-06-29T13:21:34.597647Z",
     "start_time": "2021-06-29T13:21:34.592077Z"
    }
   },
   "outputs": [
    {
     "name": "stdout",
     "output_type": "stream",
     "text": [
      "Accuracy:  0.6631\n"
     ]
    }
   ],
   "source": [
    "from sklearn.metrics import accuracy_score\n",
    "print(\"Accuracy: \", round(accuracy_score(pc.labels_test, predicted),4))"
   ]
  },
  {
   "cell_type": "code",
   "execution_count": 12,
   "metadata": {
    "ExecuteTime": {
     "end_time": "2021-06-29T13:21:34.608221Z",
     "start_time": "2021-06-29T13:21:34.600317Z"
    }
   },
   "outputs": [
    {
     "name": "stdout",
     "output_type": "stream",
     "text": [
      "|--- feature_13 <= 0.08\n",
      "|   |--- feature_2 <= 0.50\n",
      "|   |   |--- feature_13 <= 0.02\n",
      "|   |   |   |--- class: 0\n",
      "|   |   |--- feature_13 >  0.02\n",
      "|   |   |   |--- class: 0\n",
      "|   |--- feature_2 >  0.50\n",
      "|   |   |--- feature_12 <= 0.50\n",
      "|   |   |   |--- class: 0\n",
      "|   |   |--- feature_12 >  0.50\n",
      "|   |   |   |--- class: 1\n",
      "|--- feature_13 >  0.08\n",
      "|   |--- feature_13 <= 0.26\n",
      "|   |   |--- feature_1 <= 0.50\n",
      "|   |   |   |--- class: 1\n",
      "|   |   |--- feature_1 >  0.50\n",
      "|   |   |   |--- class: 0\n",
      "|   |--- feature_13 >  0.26\n",
      "|   |   |--- feature_13 <= 0.47\n",
      "|   |   |   |--- class: 1\n",
      "|   |   |--- feature_13 >  0.47\n",
      "|   |   |   |--- class: 1\n",
      "\n"
     ]
    }
   ],
   "source": [
    "from sklearn import tree\n",
    "\n",
    "text_representation = tree.export_text(pc.clf)\n",
    "print(text_representation)"
   ]
  },
  {
   "cell_type": "code",
   "execution_count": 13,
   "metadata": {
    "ExecuteTime": {
     "end_time": "2021-06-29T13:21:35.700988Z",
     "start_time": "2021-06-29T13:21:34.610699Z"
    }
   },
   "outputs": [
    {
     "data": {
      "image/png": "[encoded data removed]",
      "text/plain": [
       "<Figure size 1800x1440 with 1 Axes>"
      ]
     },
     "metadata": {
      "needs_background": "light"
     },
     "output_type": "display_data"
    }
   ],
   "source": [
    "from matplotlib import pyplot as plt\n",
    "fig = plt.figure(figsize=(25,20))\n",
    "_ = tree.plot_tree(pc.clf, \n",
    "                   feature_names=pc.OH_X_test_cols.columns,\n",
    "                   class_names=pc.d_train.class_values(),\n",
    "                   filled=True)"
   ]
  },
  {
   "cell_type": "code",
   "execution_count": 14,
   "metadata": {
    "ExecuteTime": {
     "end_time": "2021-06-29T13:21:35.710585Z",
     "start_time": "2021-06-29T13:21:35.702242Z"
    }
   },
   "outputs": [],
   "source": [
    "def decodeValue(instance, column_name, value, pc, threshold_v=False):\n",
    "    fr=frozenset([f\"{column_name}=value\"])\n",
    "    fr_col=frozenset([column_name])\n",
    "    if column_name in pc.min_max_scaler_cols:\n",
    "            index=pc.min_max_scaler_cols.index(column_name)\n",
    "            convert = np.zeros((1, len(pc.min_max_scaler_cols)))\n",
    "            convert[0,index]=value\n",
    "            threshold_value=pc.min_max_scaler.inverse_transform(convert)[0,index]\n",
    "            fr=frozenset([f\"{column_name}={threshold_value.round(2)}\"])\n",
    "            return threshold_value.round(2), fr, (fr, fr_col)\n",
    "    if column_name in pc.getMappingOHColumnsTupleAttrValue():\n",
    "            attr,attrv=pc.getMappingOHColumnsTupleAttrValue()[column_name]\n",
    "            if threshold_v==False:\n",
    "                conv_v=False if value<0.5 else True\n",
    "                rel=\"!=\" if value<0.5 else \"=\"\n",
    "                attr_values=dict(pc.getLabelEncodedNames())[attr]\n",
    "                if len(attr_values)==2:\n",
    "                    index=attr_values.index(attrv)\n",
    "                    index=(index+1)%2\n",
    "                    rel, attrv=\"=\", attr_values[index]\n",
    "                df_sel=instance[[col for col in instance if col.startswith(attr)]].astype(bool)\n",
    "                attrv_equal=pc.getMappingOHColumnsTupleAttrValue()[df_sel.columns[df_sel.values[0]].values[0]][1]\n",
    "                fr=frozenset([f\"{attr}{rel}{attrv}\"])\n",
    "                fr_instance=(frozenset([f\"{attr}={attrv_equal}\"]), frozenset([attr]))\n",
    "                return conv_v, fr, fr_instance\n",
    "    return value, fr, (fr, fr_col)"
   ]
  },
  {
   "cell_type": "code",
   "execution_count": 15,
   "metadata": {
    "ExecuteTime": {
     "end_time": "2021-06-29T13:21:35.718689Z",
     "start_time": "2021-06-29T13:21:35.712036Z"
    }
   },
   "outputs": [],
   "source": [
    "def decodeContinuousValue(instance, column_name, value, pc, threshold_v=False):\n",
    "    fr=frozenset([f\"{column_name}=value\"])\n",
    "    fr_col=frozenset([column_name])\n",
    "    if column_name in pc.min_max_scaler_cols:\n",
    "            index=pc.min_max_scaler_cols.index(column_name)\n",
    "            convert = np.zeros((1, len(pc.min_max_scaler_cols)))\n",
    "            convert[0,index]=value\n",
    "            decoded_value=pc.min_max_scaler.inverse_transform(convert)[0,index]\n",
    "            return decoded_value.round(2)    "
   ]
  },
  {
   "cell_type": "code",
   "execution_count": 16,
   "metadata": {
    "ExecuteTime": {
     "end_time": "2021-06-29T13:21:35.727032Z",
     "start_time": "2021-06-29T13:21:35.720047Z"
    }
   },
   "outputs": [],
   "source": [
    "def getPathDecisionTree(clf, instance, pc, verbose=False):\n",
    "    path_fr=frozenset([])\n",
    "    path_fr_instance=frozenset([])\n",
    "    path_fr_attr=frozenset([])\n",
    "    feature = clf.tree_.feature\n",
    "    threshold = clf.tree_.threshold\n",
    "    \n",
    "    \n",
    "    X_test=instance.values\n",
    "    node_indicator = clf.decision_path(X_test)\n",
    "    leaf_id = clf.apply(X_test)\n",
    "\n",
    "    sample_id = 0\n",
    "    # obtain ids of the nodes `sample_id` goes through, i.e., row `sample_id`\n",
    "    node_index = node_indicator.indices[node_indicator.indptr[sample_id]:\n",
    "                                        node_indicator.indptr[sample_id + 1]]\n",
    "\n",
    "\n",
    "    \n",
    "    for node_id in node_index:\n",
    "        # continue to the next node if it is a leaf node\n",
    "        if leaf_id[sample_id] == node_id:\n",
    "            continue\n",
    "        \n",
    "        # check if value of the split feature for sample 0 is below threshold\n",
    "        if (X_test[sample_id, feature[node_id]] <= threshold[node_id]):\n",
    "            threshold_sign = \"<=\"\n",
    "        else:\n",
    "            threshold_sign = \">\"\n",
    "        \n",
    "        \n",
    "        threshold_value, _, _=decodeValue(instance, instance.columns[feature[node_id]], threshold[node_id], pc, threshold_v=True)\n",
    "        column_value, fr, fr_instance_att=decodeValue(instance, instance.columns[feature[node_id]], X_test[sample_id, feature[node_id]], pc)\n",
    "        path_fr=path_fr.union(fr)\n",
    "        path_fr_instance=path_fr_instance.union(fr_instance_att[0])\n",
    "        path_fr_attr=path_fr_attr.union(fr_instance_att[1])\n",
    "        if verbose:\n",
    "            print(\"decision node {node} : (X_test[{sample}, {feature}] = {value}) \"\n",
    "                  \"{inequality} {threshold})\".format(\n",
    "                      node=node_id,\n",
    "                      sample=sample_id,\n",
    "                      feature=feature[node_id],\n",
    "                      value=X_test[sample_id, feature[node_id]],\n",
    "                      inequality=threshold_sign,\n",
    "                      threshold=threshold[node_id]))\n",
    "\n",
    "            print(\"decision node {node} : ({column_name} = {value}) \"\n",
    "                  \"{inequality} {threshold})\".format(\n",
    "                      node=node_id,\n",
    "                      column_name=instance.columns[feature[node_id]],\n",
    "                      value=column_value,\n",
    "                      inequality=threshold_sign,\n",
    "                      threshold=threshold_value))\n",
    "    return path_fr, path_fr_instance, path_fr_attr\n",
    "        "
   ]
  },
  {
   "cell_type": "markdown",
   "metadata": {},
   "source": [
    "## Example"
   ]
  },
  {
   "cell_type": "code",
   "execution_count": 17,
   "metadata": {
    "ExecuteTime": {
     "end_time": "2021-06-29T13:21:35.756281Z",
     "start_time": "2021-06-29T13:21:35.728358Z"
    }
   },
   "outputs": [
    {
     "data": {
      "text/html": [
       "<div>\n",
       "<style scoped>\n",
       "    .dataframe tbody tr th:only-of-type {\n",
       "        vertical-align: middle;\n",
       "    }\n",
       "\n",
       "    .dataframe tbody tr th {\n",
       "        vertical-align: top;\n",
       "    }\n",
       "\n",
       "    .dataframe thead th {\n",
       "        text-align: right;\n",
       "    }\n",
       "</style>\n",
       "<table border=\"1\" class=\"dataframe\">\n",
       "  <thead>\n",
       "    <tr style=\"text-align: right;\">\n",
       "      <th></th>\n",
       "      <th>age_cat</th>\n",
       "      <th>c_charge_degree</th>\n",
       "      <th>race</th>\n",
       "      <th>sex</th>\n",
       "      <th>priors_count</th>\n",
       "      <th>length_of_stay</th>\n",
       "      <th>class</th>\n",
       "    </tr>\n",
       "  </thead>\n",
       "  <tbody>\n",
       "    <tr>\n",
       "      <th>7</th>\n",
       "      <td>25 - 45</td>\n",
       "      <td>F</td>\n",
       "      <td>Other</td>\n",
       "      <td>Male</td>\n",
       "      <td>8</td>\n",
       "      <td>1</td>\n",
       "      <td>Recidivate</td>\n",
       "    </tr>\n",
       "  </tbody>\n",
       "</table>\n",
       "</div>"
      ],
      "text/plain": [
       "   age_cat c_charge_degree   race   sex priors_count length_of_stay  \\\n",
       "7  25 - 45               F  Other  Male            8              1   \n",
       "\n",
       "        class  \n",
       "7  Recidivate  "
      ]
     },
     "metadata": {},
     "output_type": "display_data"
    },
    {
     "name": "stdout",
     "output_type": "stream",
     "text": [
      "[['25 - 45' 'F' 'Other' 'Male' 8 1.0 'Recidivate']]\n",
      "decision node 0 : (X_test[0, 13] = 0.24242424242424243) > 0.07575757801532745)\n",
      "decision node 0 : (priors_count = 8.0) > 2.5)\n",
      "decision node 8 : (X_test[0, 13] = 0.24242424242424243) <= 0.25757576525211334)\n",
      "decision node 8 : (priors_count = 8.0) <= 8.5)\n",
      "decision node 9 : (X_test[0, 1] = 0.0) <= 0.5)\n",
      "decision node 9 : (age_cat_Greater than 45 = False) <= 0.5)\n",
      "frozenset({'priors_count=8.0', 'age_cat!=Greater than 45'})\n",
      "\n",
      "frozenset({'priors_count=8.0', 'age_cat=25 - 45'})\n",
      "\n",
      "frozenset({'age_cat', 'priors_count'})\n"
     ]
    }
   ],
   "source": [
    "sample_id=7 #1\n",
    "\n",
    "display(pc.d_explain._decoded_df.iloc[sample_id:sample_id+1])\n",
    "print(pc.d_explain._decoded_df.iloc[sample_id:sample_id+1].values)\n",
    "instance=pc.OH_X_test_cols.iloc[sample_id:sample_id+1]\n",
    "#display(instance)\n",
    "\n",
    "\n",
    "clf=pc.clf\n",
    "path_fr, path_fr_instance,path_fr_attr=getPathDecisionTree(clf, instance, pc, verbose=True)\n",
    "\n",
    "print(path_fr)\n",
    "print()\n",
    "print(path_fr_instance)\n",
    "print()\n",
    "print(path_fr_attr)"
   ]
  },
  {
   "cell_type": "code",
   "execution_count": 18,
   "metadata": {
    "ExecuteTime": {
     "end_time": "2021-06-29T13:21:35.783369Z",
     "start_time": "2021-06-29T13:21:35.758669Z"
    }
   },
   "outputs": [
    {
     "data": {
      "text/html": [
       "<div>\n",
       "<style scoped>\n",
       "    .dataframe tbody tr th:only-of-type {\n",
       "        vertical-align: middle;\n",
       "    }\n",
       "\n",
       "    .dataframe tbody tr th {\n",
       "        vertical-align: top;\n",
       "    }\n",
       "\n",
       "    .dataframe thead th {\n",
       "        text-align: right;\n",
       "    }\n",
       "</style>\n",
       "<table border=\"1\" class=\"dataframe\">\n",
       "  <thead>\n",
       "    <tr style=\"text-align: right;\">\n",
       "      <th></th>\n",
       "      <th>age_cat</th>\n",
       "      <th>c_charge_degree</th>\n",
       "      <th>race</th>\n",
       "      <th>sex</th>\n",
       "      <th>priors_count</th>\n",
       "      <th>length_of_stay</th>\n",
       "      <th>class</th>\n",
       "    </tr>\n",
       "  </thead>\n",
       "  <tbody>\n",
       "    <tr>\n",
       "      <th>17</th>\n",
       "      <td>Greater than 45</td>\n",
       "      <td>M</td>\n",
       "      <td>African-American</td>\n",
       "      <td>Male</td>\n",
       "      <td>8</td>\n",
       "      <td>1</td>\n",
       "      <td>Recidivate</td>\n",
       "    </tr>\n",
       "    <tr>\n",
       "      <th>24</th>\n",
       "      <td>Greater than 45</td>\n",
       "      <td>M</td>\n",
       "      <td>African-American</td>\n",
       "      <td>Male</td>\n",
       "      <td>22</td>\n",
       "      <td>1</td>\n",
       "      <td>Not recidivate</td>\n",
       "    </tr>\n",
       "    <tr>\n",
       "      <th>44</th>\n",
       "      <td>Greater than 45</td>\n",
       "      <td>F</td>\n",
       "      <td>Caucasian</td>\n",
       "      <td>Male</td>\n",
       "      <td>3</td>\n",
       "      <td>1</td>\n",
       "      <td>Recidivate</td>\n",
       "    </tr>\n",
       "    <tr>\n",
       "      <th>89</th>\n",
       "      <td>Greater than 45</td>\n",
       "      <td>F</td>\n",
       "      <td>African-American</td>\n",
       "      <td>Male</td>\n",
       "      <td>5</td>\n",
       "      <td>243</td>\n",
       "      <td>Recidivate</td>\n",
       "    </tr>\n",
       "    <tr>\n",
       "      <th>118</th>\n",
       "      <td>Greater than 45</td>\n",
       "      <td>M</td>\n",
       "      <td>African-American</td>\n",
       "      <td>Male</td>\n",
       "      <td>9</td>\n",
       "      <td>39</td>\n",
       "      <td>Recidivate</td>\n",
       "    </tr>\n",
       "    <tr>\n",
       "      <th>132</th>\n",
       "      <td>Greater than 45</td>\n",
       "      <td>M</td>\n",
       "      <td>African-American</td>\n",
       "      <td>Male</td>\n",
       "      <td>14</td>\n",
       "      <td>31</td>\n",
       "      <td>Not recidivate</td>\n",
       "    </tr>\n",
       "    <tr>\n",
       "      <th>153</th>\n",
       "      <td>Greater than 45</td>\n",
       "      <td>M</td>\n",
       "      <td>Caucasian</td>\n",
       "      <td>Male</td>\n",
       "      <td>13</td>\n",
       "      <td>66</td>\n",
       "      <td>Recidivate</td>\n",
       "    </tr>\n",
       "    <tr>\n",
       "      <th>162</th>\n",
       "      <td>Greater than 45</td>\n",
       "      <td>F</td>\n",
       "      <td>Caucasian</td>\n",
       "      <td>Female</td>\n",
       "      <td>5</td>\n",
       "      <td>1</td>\n",
       "      <td>Not recidivate</td>\n",
       "    </tr>\n",
       "    <tr>\n",
       "      <th>185</th>\n",
       "      <td>Greater than 45</td>\n",
       "      <td>M</td>\n",
       "      <td>African-American</td>\n",
       "      <td>Male</td>\n",
       "      <td>23</td>\n",
       "      <td>1</td>\n",
       "      <td>Recidivate</td>\n",
       "    </tr>\n",
       "    <tr>\n",
       "      <th>189</th>\n",
       "      <td>Greater than 45</td>\n",
       "      <td>F</td>\n",
       "      <td>African-American</td>\n",
       "      <td>Male</td>\n",
       "      <td>16</td>\n",
       "      <td>1</td>\n",
       "      <td>Not recidivate</td>\n",
       "    </tr>\n",
       "    <tr>\n",
       "      <th>214</th>\n",
       "      <td>Greater than 45</td>\n",
       "      <td>F</td>\n",
       "      <td>African-American</td>\n",
       "      <td>Male</td>\n",
       "      <td>12</td>\n",
       "      <td>2</td>\n",
       "      <td>Recidivate</td>\n",
       "    </tr>\n",
       "    <tr>\n",
       "      <th>269</th>\n",
       "      <td>Greater than 45</td>\n",
       "      <td>F</td>\n",
       "      <td>Caucasian</td>\n",
       "      <td>Male</td>\n",
       "      <td>3</td>\n",
       "      <td>1</td>\n",
       "      <td>Not recidivate</td>\n",
       "    </tr>\n",
       "    <tr>\n",
       "      <th>280</th>\n",
       "      <td>Greater than 45</td>\n",
       "      <td>F</td>\n",
       "      <td>African-American</td>\n",
       "      <td>Male</td>\n",
       "      <td>13</td>\n",
       "      <td>1</td>\n",
       "      <td>Recidivate</td>\n",
       "    </tr>\n",
       "    <tr>\n",
       "      <th>292</th>\n",
       "      <td>Greater than 45</td>\n",
       "      <td>M</td>\n",
       "      <td>African-American</td>\n",
       "      <td>Male</td>\n",
       "      <td>15</td>\n",
       "      <td>15</td>\n",
       "      <td>Recidivate</td>\n",
       "    </tr>\n",
       "    <tr>\n",
       "      <th>319</th>\n",
       "      <td>Greater than 45</td>\n",
       "      <td>F</td>\n",
       "      <td>African-American</td>\n",
       "      <td>Male</td>\n",
       "      <td>11</td>\n",
       "      <td>1</td>\n",
       "      <td>Not recidivate</td>\n",
       "    </tr>\n",
       "    <tr>\n",
       "      <th>334</th>\n",
       "      <td>Greater than 45</td>\n",
       "      <td>F</td>\n",
       "      <td>African-American</td>\n",
       "      <td>Male</td>\n",
       "      <td>3</td>\n",
       "      <td>2</td>\n",
       "      <td>Not recidivate</td>\n",
       "    </tr>\n",
       "    <tr>\n",
       "      <th>349</th>\n",
       "      <td>Greater than 45</td>\n",
       "      <td>F</td>\n",
       "      <td>African-American</td>\n",
       "      <td>Male</td>\n",
       "      <td>3</td>\n",
       "      <td>1</td>\n",
       "      <td>Not recidivate</td>\n",
       "    </tr>\n",
       "    <tr>\n",
       "      <th>352</th>\n",
       "      <td>Greater than 45</td>\n",
       "      <td>F</td>\n",
       "      <td>Caucasian</td>\n",
       "      <td>Female</td>\n",
       "      <td>4</td>\n",
       "      <td>0</td>\n",
       "      <td>Recidivate</td>\n",
       "    </tr>\n",
       "    <tr>\n",
       "      <th>356</th>\n",
       "      <td>Greater than 45</td>\n",
       "      <td>M</td>\n",
       "      <td>African-American</td>\n",
       "      <td>Male</td>\n",
       "      <td>4</td>\n",
       "      <td>5</td>\n",
       "      <td>Not recidivate</td>\n",
       "    </tr>\n",
       "    <tr>\n",
       "      <th>360</th>\n",
       "      <td>Greater than 45</td>\n",
       "      <td>F</td>\n",
       "      <td>African-American</td>\n",
       "      <td>Male</td>\n",
       "      <td>5</td>\n",
       "      <td>1</td>\n",
       "      <td>Not recidivate</td>\n",
       "    </tr>\n",
       "  </tbody>\n",
       "</table>\n",
       "</div>"
      ],
      "text/plain": [
       "             age_cat c_charge_degree              race     sex priors_count  \\\n",
       "17   Greater than 45               M  African-American    Male            8   \n",
       "24   Greater than 45               M  African-American    Male           22   \n",
       "44   Greater than 45               F         Caucasian    Male            3   \n",
       "89   Greater than 45               F  African-American    Male            5   \n",
       "118  Greater than 45               M  African-American    Male            9   \n",
       "132  Greater than 45               M  African-American    Male           14   \n",
       "153  Greater than 45               M         Caucasian    Male           13   \n",
       "162  Greater than 45               F         Caucasian  Female            5   \n",
       "185  Greater than 45               M  African-American    Male           23   \n",
       "189  Greater than 45               F  African-American    Male           16   \n",
       "214  Greater than 45               F  African-American    Male           12   \n",
       "269  Greater than 45               F         Caucasian    Male            3   \n",
       "280  Greater than 45               F  African-American    Male           13   \n",
       "292  Greater than 45               M  African-American    Male           15   \n",
       "319  Greater than 45               F  African-American    Male           11   \n",
       "334  Greater than 45               F  African-American    Male            3   \n",
       "349  Greater than 45               F  African-American    Male            3   \n",
       "352  Greater than 45               F         Caucasian  Female            4   \n",
       "356  Greater than 45               M  African-American    Male            4   \n",
       "360  Greater than 45               F  African-American    Male            5   \n",
       "\n",
       "    length_of_stay           class  \n",
       "17               1      Recidivate  \n",
       "24               1  Not recidivate  \n",
       "44               1      Recidivate  \n",
       "89             243      Recidivate  \n",
       "118             39      Recidivate  \n",
       "132             31  Not recidivate  \n",
       "153             66      Recidivate  \n",
       "162              1  Not recidivate  \n",
       "185              1      Recidivate  \n",
       "189              1  Not recidivate  \n",
       "214              2      Recidivate  \n",
       "269              1  Not recidivate  \n",
       "280              1      Recidivate  \n",
       "292             15      Recidivate  \n",
       "319              1  Not recidivate  \n",
       "334              2  Not recidivate  \n",
       "349              1  Not recidivate  \n",
       "352              0      Recidivate  \n",
       "356              5  Not recidivate  \n",
       "360              1  Not recidivate  "
      ]
     },
     "execution_count": 18,
     "metadata": {},
     "output_type": "execute_result"
    }
   ],
   "source": [
    "a=pc.d_explain._decoded_df\n",
    "a.loc[(a[\"age_cat\"]==\"Greater than 45\") & (a[\"priors_count\"]>2.5)].head(20)"
   ]
  },
  {
   "cell_type": "markdown",
   "metadata": {},
   "source": [
    "# Explainers"
   ]
  },
  {
   "cell_type": "markdown",
   "metadata": {},
   "source": [
    "## LIME"
   ]
  },
  {
   "cell_type": "code",
   "execution_count": 19,
   "metadata": {
    "ExecuteTime": {
     "end_time": "2021-06-29T13:21:35.791816Z",
     "start_time": "2021-06-29T13:21:35.785679Z"
    }
   },
   "outputs": [],
   "source": [
    "import lime\n",
    "import lime.lime_tabular\n",
    "import numpy as np\n",
    "np.random.seed(42)"
   ]
  },
  {
   "cell_type": "code",
   "execution_count": 20,
   "metadata": {
    "ExecuteTime": {
     "end_time": "2021-06-29T13:21:35.814711Z",
     "start_time": "2021-06-29T13:21:35.793722Z"
    }
   },
   "outputs": [],
   "source": [
    "lime_explainer = lime.lime_tabular.LimeTabularExplainer(pc.train.values ,feature_names = pc.feature_names,class_names=pc.class_names,\n",
    "                                                   categorical_features=pc.categorical_features_pos, \n",
    "                                                   categorical_names=pc.categorical_names_LE, random_state=42)"
   ]
  },
  {
   "cell_type": "markdown",
   "metadata": {},
   "source": [
    "## SHAP"
   ]
  },
  {
   "cell_type": "code",
   "execution_count": 21,
   "metadata": {
    "ExecuteTime": {
     "end_time": "2021-06-29T13:21:36.257890Z",
     "start_time": "2021-06-29T13:21:35.818240Z"
    }
   },
   "outputs": [],
   "source": [
    "if toCompute:\n",
    "    import shap\n",
    "    if classifier_name in [\"RF\", \"tree\"]:\n",
    "        shap_explainer = shap.TreeExplainer(pc.clf)\n",
    "    else:\n",
    "        shap_explainer = shap.KernelExplainer(model=pc.predict_fn_OH, data=pc.OH_X_train.values)#, link=\"logit\")"
   ]
  },
  {
   "cell_type": "markdown",
   "metadata": {},
   "source": [
    "## Anchor"
   ]
  },
  {
   "cell_type": "code",
   "execution_count": 22,
   "metadata": {
    "ExecuteTime": {
     "end_time": "2021-06-29T13:21:36.263315Z",
     "start_time": "2021-06-29T13:21:36.259130Z"
    }
   },
   "outputs": [],
   "source": [
    "from anchor import utils\n",
    "from anchor import anchor_tabular"
   ]
  },
  {
   "cell_type": "code",
   "execution_count": 23,
   "metadata": {
    "ExecuteTime": {
     "end_time": "2021-06-29T13:21:36.306796Z",
     "start_time": "2021-06-29T13:21:36.272471Z"
    }
   },
   "outputs": [],
   "source": [
    "anchor_explainer = anchor_tabular.AnchorTabularExplainer(\n",
    "    pc.class_names,\n",
    "    pc.feature_names,\n",
    "    pc.train.values,\n",
    "    pc.categorical_names_LE)"
   ]
  },
  {
   "cell_type": "markdown",
   "metadata": {},
   "source": [
    "## LACE"
   ]
  },
  {
   "cell_type": "code",
   "execution_count": 24,
   "metadata": {
    "ExecuteTime": {
     "end_time": "2021-06-29T13:21:36.384928Z",
     "start_time": "2021-06-29T13:21:36.309702Z"
    }
   },
   "outputs": [],
   "source": [
    "from src.LACE_explainer import LACE_explainer\n",
    "\n",
    "lace_explainer = LACE_explainer(pc.d_train,pc.predict_fn, dataset_name=\"COMPAS\")"
   ]
  },
  {
   "cell_type": "markdown",
   "metadata": {
    "ExecuteTime": {
     "end_time": "2021-02-26T15:08:37.081408Z",
     "start_time": "2021-02-26T15:08:37.078522Z"
    }
   },
   "source": [
    "# Comparison"
   ]
  },
  {
   "cell_type": "code",
   "execution_count": 25,
   "metadata": {
    "ExecuteTime": {
     "end_time": "2021-06-29T13:21:36.392105Z",
     "start_time": "2021-06-29T13:21:36.386763Z"
    }
   },
   "outputs": [],
   "source": [
    "outdir_lace=f\"./results/{dataset_name}/lace\"\n",
    "outdir_lime=f\"./results/{dataset_name}/lime\"\n",
    "outdir_shap=f\"./results/{dataset_name}/shap\"\n",
    "\n",
    "saveFig=False\n",
    "\n",
    "if saveFig:\n",
    "    from pathlib import Path\n",
    "    Path(outdir_lace).mkdir(parents=True, exist_ok=True)\n",
    "    Path(outdir_lime).mkdir(parents=True, exist_ok=True)\n",
    "    Path(outdir_shap).mkdir(parents=True, exist_ok=True)"
   ]
  },
  {
   "cell_type": "code",
   "execution_count": 26,
   "metadata": {
    "ExecuteTime": {
     "end_time": "2021-06-29T13:21:36.408758Z",
     "start_time": "2021-06-29T13:21:36.394350Z"
    }
   },
   "outputs": [],
   "source": [
    "def lime_explanation_attr_sorted(exp_lime, label):\n",
    "    exp = dict(exp_lime.as_list(label=label))\n",
    "    names = exp_lime.domain_mapper.feature_names\n",
    "    exp_lime_dict = {}\n",
    "    for n in names:\n",
    "        if n in exp:\n",
    "            exp_lime_dict[n]=exp[n]\n",
    "        else:\n",
    "            for k in exp.keys():\n",
    "                if n in k:\n",
    "                    exp_lime_dict[n]=exp[k]\n",
    "    return exp_lime_dict\n",
    "\n",
    "\n",
    "def checkRankingTarget(rankings, target):\n",
    "    targets_hit=[1 for t in target if rankings[t]<=len(target)]\n",
    "    return sum(targets_hit)/len(target)\n",
    "\n",
    "def getFeatureRankingList(k_v, feature_names, absValue=False):\n",
    "    rankings=k_v.copy()\n",
    "    if absValue:\n",
    "        for rank, k in enumerate(sorted(k_v, key=lambda k: abs(k_v[k]), reverse=True), 1):\n",
    "            rankings[k]=rank\n",
    "    else:\n",
    "        for rank, k in enumerate(sorted(k_v, key=k_v.get, reverse=True), 1):\n",
    "            rankings[k]=rank\n",
    "    rankings={feature_names[f]:list(rankings.values())[f] for f in range(len(feature_names))}\n",
    "    return rankings\n",
    "\n",
    "def evaluateRankingTarget(k_v,feature_names, target, absValue=False):\n",
    "    rankings=getFeatureRankingList(k_v, feature_names, absValue=absValue)\n",
    "    return checkRankingTarget(rankings, target)"
   ]
  },
  {
   "cell_type": "code",
   "execution_count": 27,
   "metadata": {
    "ExecuteTime": {
     "end_time": "2021-06-29T13:21:36.421273Z",
     "start_time": "2021-06-29T13:21:36.411004Z"
    }
   },
   "outputs": [],
   "source": [
    "def computeHits(attributes_rules, target, hits, verbose=False):\n",
    "    hit_rule_tuple=None\n",
    "    superset=False\n",
    "    subset=False\n",
    "    for rule_attr in attributes_rules:\n",
    "        if verbose:\n",
    "            print(rule_attr)\n",
    "        # the order does not matter\n",
    "        if set(rule_attr)==set(target):\n",
    "            hits[\"hit\"]+=1\n",
    "            hit_rule_tuple=(frozenset(rule_attr), \"hit\")\n",
    "            if verbose:\n",
    "                print(\"hit\", hit_rule_tuple)\n",
    "            return hits, hit_rule_tuple\n",
    "        elif frozenset(rule_attr).issuperset(frozenset(target)):\n",
    "                superset=True\n",
    "                hit_rule_tuple=(frozenset(rule_attr), \"partial_hit_superset\")\n",
    "                if verbose:\n",
    "                    print(\"partial_hit_superset\")\n",
    "                break\n",
    "        else:\n",
    "            sunbs=[]\n",
    "            for attribute in target:\n",
    "                if attribute in rule_attr:                    \n",
    "                    subset=True\n",
    "                    sunbs.append(attribute)\n",
    "            if subset:\n",
    "                hit_rule_tuple=(frozenset(rule_attr), \"partial_hit_subset\")\n",
    "                if verbose:\n",
    "                    print(\"partial_hit_subset\", sunbs)\n",
    "                break\n",
    "    if superset:\n",
    "        hits[\"partial_hit_superset\"]+=1\n",
    "    elif subset:\n",
    "        hits[\"partial_hit_subset\"]+=1\n",
    "    return hits, hit_rule_tuple"
   ]
  },
  {
   "cell_type": "code",
   "execution_count": 28,
   "metadata": {
    "ExecuteTime": {
     "end_time": "2021-06-29T13:21:36.428198Z",
     "start_time": "2021-06-29T13:21:36.423633Z"
    }
   },
   "outputs": [],
   "source": [
    "def saveFigure(fig_lace, outdir, id_i, explainer_name=\"\", w=4,h=3):\n",
    "    fig_lace.set_size_inches(w,h)\n",
    "    fig_lace.savefig(f\"{outdir}/{explainer_name}_{id_i}.pdf\", bbox_inches=\"tight\")"
   ]
  },
  {
   "cell_type": "code",
   "execution_count": 29,
   "metadata": {
    "ExecuteTime": {
     "end_time": "2021-06-29T13:21:36.433702Z",
     "start_time": "2021-06-29T13:21:36.430690Z"
    }
   },
   "outputs": [],
   "source": [
    "fontsize=14\n",
    "saveFig=True"
   ]
  },
  {
   "cell_type": "code",
   "execution_count": 30,
   "metadata": {
    "ExecuteTime": {
     "end_time": "2021-06-29T13:21:36.437367Z",
     "start_time": "2021-06-29T13:21:36.435089Z"
    }
   },
   "outputs": [],
   "source": [
    "#target=[\"X\", \"Y\"]\n",
    "lime_targets={}\n",
    "shap_targets={}\n",
    "lace_targets={}"
   ]
  },
  {
   "cell_type": "markdown",
   "metadata": {},
   "source": [
    "## Exp"
   ]
  },
  {
   "cell_type": "code",
   "execution_count": 31,
   "metadata": {
    "ExecuteTime": {
     "end_time": "2021-06-29T13:21:39.554409Z",
     "start_time": "2021-06-29T13:21:36.438767Z"
    },
    "scrolled": true
   },
   "outputs": [
    {
     "name": "stdout",
     "output_type": "stream",
     "text": [
      "####################\n",
      "target\n",
      "frozenset({'age_cat', 'priors_count'})\n",
      "frozenset({'priors_count=8.0', 'age_cat!=Greater than 45'})\n",
      "frozenset({'priors_count=8.0', 'age_cat=25 - 45'})\n",
      "LIME\n",
      "SHAP\n",
      "Id 7\n",
      "Anchor: priors_count > 4.00 AND age_cat = 25 - 45\n",
      "Predicted class:  1\n",
      "Precision: 1.00\n",
      "Coverage: 0.18\n",
      "{'Rule_1': (['age_cat=25 - 45', 'priors_count=8'], '-->', 'Recidivate'), 'Rule_2': (['priors_count=8'], '-->', 'Recidivate')}\n",
      "['age_cat=25 - 45', 'priors_count=8'] --> Recidivate 205 support: 0.7765151515151515 confidence: 100.0 [1, 5]\n",
      "['priors_count=8'] --> Recidivate 206 support: 0.7803030303030303 confidence: 98.099998 [5]\n"
     ]
    },
    {
     "data": {
      "image/png": "[encoded data removed]",
      "text/plain": [
       "<Figure size 288x216 with 1 Axes>"
      ]
     },
     "metadata": {
      "needs_background": "light"
     },
     "output_type": "display_data"
    },
    {
     "data": {
      "image/png": "[encoded data removed]",
      "text/plain": [
       "<Figure size 288x216 with 1 Axes>"
      ]
     },
     "metadata": {
      "needs_background": "light"
     },
     "output_type": "display_data"
    },
    {
     "data": {
      "image/png": "[encoded data removed]",
      "text/plain": [
       "<Figure size 288x216 with 1 Axes>"
      ]
     },
     "metadata": {
      "needs_background": "light"
     },
     "output_type": "display_data"
    }
   ],
   "source": [
    "for id_i in [7]:\n",
    "    path, true_rule,target=getPathDecisionTree(pc.clf, pc.OH_X_test_cols.iloc[id_i:id_i+1], pc, verbose=False)\n",
    "    print(\"####################\\ntarget\")\n",
    "    print(target)\n",
    "    print(path)\n",
    "    print(true_rule)\n",
    "    from utils_RW import plot_lime_explanation\n",
    "    predicted_class=pc.predict_fn_class(pc.test.iloc[id_i].values.reshape(1,-1))[0]\n",
    "    print(\"LIME\")\n",
    "    exp_lime = lime_explainer.explain_instance(pc.test.iloc[id_i].values, pc.predict_fn, num_features=len(pc.feature_names), labels=[predicted_class])\n",
    "    fig_lime = plot_lime_explanation(exp_lime, label=predicted_class, pred=pc.class_names[np.argmax(pc.predict_fn(pc.test.iloc[id_i:id_i+1].values))], true_label=pc.class_names[pc.labels_test[id_i]], fontsize=fontsize)\n",
    "    if saveFig:\n",
    "        saveFigure(fig_lime, outputDirResults, id_i, \"lime\")\n",
    "    exp_lime_dict=lime_explanation_attr_sorted(exp_lime, predicted_class)\n",
    "    lime_targets[id_i]=evaluateRankingTarget(exp_lime_dict,list(pc.feature_names), target)\n",
    "    \n",
    "    \n",
    "    from utils_RW import sumCategories, plotShapValues, convertInstance\n",
    "    print(\"SHAP\")\n",
    "    instance=pc.OH_X_test_cols.iloc[id_i]\n",
    "    shap_values = shap_explainer.shap_values(instance)\n",
    "    matching_instance=convertInstance(instance, pc.categorical_features, pc.continuos_features, pc.min_max_scaler)\n",
    "\n",
    "    sum_shap_for_categories=sumCategories(shap_values[predicted_class], pc.oh_columns, pc.categorical_features, matching_instance)\n",
    "    fig_shap=plotShapValues(list(sum_shap_for_categories.values()), list(sum_shap_for_categories.keys()), target_class=pc.class_names[predicted_class], \\\n",
    "                   pred=pc.class_names[pc.clf.predict([instance])[0]], true=pc.class_names[pc.labels_test[id_i]], fontsize=fontsize)\n",
    "    if saveFig:\n",
    "        saveFigure(fig_shap, outputDirResults, id_i, \"shap\")\n",
    "    shap_targets[id_i]=evaluateRankingTarget(sum_shap_for_categories,list(pc.feature_names), target)\n",
    "\n",
    " \n",
    "    from utils_RW import printAnchor, dictAnchor\n",
    "    exp_anchor = anchor_explainer.explain_instance(pc.test.iloc[id_i].values, pc.predict_fn_class, threshold=0.95)\n",
    "    printAnchor(id_i, exp_anchor)\n",
    "    dictAnchor(id_i, exp_anchor)\n",
    "    featureMasking=True\n",
    "    instance = pc.d_explain[id_i]\n",
    "    infos = {\"model\": \"RF\"}\n",
    "    instance_discretized = pc.d_explain.getDiscretizedInstance(id_i)\n",
    "    explanation_fm = lace_explainer.explain_instance(\n",
    "        instance,\n",
    "        pc.class_names[predicted_class],\n",
    "        featureMasking=featureMasking,\n",
    "        discretizedInstance=instance_discretized,\n",
    "        verbose=False)\n",
    "    fig_lace =explanation_fm.plotExplanation(showRuleKey=False, retFig=True, fontsize=fontsize)\n",
    "    explanation_fm.local_rules.printLocalRules()\n",
    "    if saveFig:\n",
    "        saveFigure(fig_lace, outputDirResults, id_i, \"lace\")\n",
    "    prediction_difference_attr=explanation_fm.getPredictionDifferenceDict()#{attrs_values[i]:explanation_fm.diff_single[i] for i in range(0,len(explanation_fm.diff_single))}\n",
    "    lace_targets[id_i]=evaluateRankingTarget(prediction_difference_attr,list(pc.feature_names), target)\n",
    "\n",
    "\n",
    "    \n",
    "    changes=explanation_fm.estimateSingleAttributeChangePrediction()\n",
    "#     if changes:\n",
    "#         print(changes)"
   ]
  },
  {
   "cell_type": "code",
   "execution_count": 32,
   "metadata": {
    "ExecuteTime": {
     "end_time": "2021-06-29T13:21:39.561808Z",
     "start_time": "2021-06-29T13:21:39.556929Z"
    }
   },
   "outputs": [
    {
     "name": "stdout",
     "output_type": "stream",
     "text": [
      "['age_cat=25 - 45', 'c_charge_degree=F', 'race=Other', 'sex=Male', 'priors_count=8', 'length_of_stay=1.0', 'class=Recidivate']\n"
     ]
    }
   ],
   "source": [
    "print([f\"{k}={v}\" for k,v in dict(explanation_fm.instance).items()])"
   ]
  },
  {
   "cell_type": "markdown",
   "metadata": {
    "ExecuteTime": {
     "end_time": "2021-03-15T10:45:43.497321Z",
     "start_time": "2021-03-15T10:45:43.495609Z"
    }
   },
   "source": [
    "# Evaluation"
   ]
  },
  {
   "cell_type": "code",
   "execution_count": 33,
   "metadata": {
    "ExecuteTime": {
     "end_time": "2021-06-29T13:21:39.568585Z",
     "start_time": "2021-06-29T13:21:39.564672Z"
    }
   },
   "outputs": [],
   "source": [
    "from quality_evaluation import *"
   ]
  },
  {
   "cell_type": "code",
   "execution_count": 34,
   "metadata": {
    "ExecuteTime": {
     "end_time": "2021-06-29T13:21:39.574518Z",
     "start_time": "2021-06-29T13:21:39.571119Z"
    }
   },
   "outputs": [],
   "source": [
    "showExplanation=True\n",
    "saveFig=False\n",
    "n_explanations=100"
   ]
  },
  {
   "cell_type": "markdown",
   "metadata": {},
   "source": [
    "## Ranking"
   ]
  },
  {
   "cell_type": "code",
   "execution_count": 35,
   "metadata": {
    "ExecuteTime": {
     "end_time": "2021-06-29T13:21:39.585193Z",
     "start_time": "2021-06-29T13:21:39.578582Z"
    }
   },
   "outputs": [],
   "source": [
    "lime_targets={}\n",
    "shap_targets={}\n",
    "lace_targets={}\n",
    "lime_targets_abs={}\n",
    "shap_targets_abs={}\n",
    "lace_targets_abs={}"
   ]
  },
  {
   "cell_type": "code",
   "execution_count": 36,
   "metadata": {
    "ExecuteTime": {
     "end_time": "2021-06-29T13:21:39.603538Z",
     "start_time": "2021-06-29T13:21:39.599404Z"
    }
   },
   "outputs": [],
   "source": [
    "lace_hits={\"hit\":0, \"partial_hit_superset\":0, \"partial_hit_subset\":0}\n",
    "anchor_hits={\"hit\":0, \"partial_hit_superset\":0, \"partial_hit_subset\":0}\n",
    "lace_rules_hit_all=[]\n",
    "anchor_rules_hit_all=[]"
   ]
  },
  {
   "cell_type": "code",
   "execution_count": 37,
   "metadata": {
    "ExecuteTime": {
     "end_time": "2021-06-29T13:21:39.610645Z",
     "start_time": "2021-06-29T13:21:39.605909Z"
    }
   },
   "outputs": [],
   "source": [
    "fi_explainers = [\"LIME\", \"SHAP\", \"LACE\"]\n",
    "feature_f1_score = {e: {} for e in fi_explainers}\n",
    "feature_f1_score_delta = {e: {} for e in fi_explainers}\n",
    "rule_explainers = [\"anchor\", \"LACE\"]\n",
    "rule_f1_score = {e: {} for e in rule_explainers}"
   ]
  },
  {
   "cell_type": "code",
   "execution_count": 38,
   "metadata": {
    "ExecuteTime": {
     "end_time": "2021-06-29T13:21:39.616344Z",
     "start_time": "2021-06-29T13:21:39.613417Z"
    }
   },
   "outputs": [],
   "source": [
    "showExplanation=False"
   ]
  },
  {
   "cell_type": "code",
   "execution_count": 39,
   "metadata": {
    "ExecuteTime": {
     "end_time": "2021-06-29T13:27:40.156867Z",
     "start_time": "2021-06-29T13:21:39.618724Z"
    },
    "scrolled": true
   },
   "outputs": [
    {
     "name": "stdout",
     "output_type": "stream",
     "text": [
      "0 (1)\n",
      "1 (2) 2 (2) 3 (3) 4 (3) 5 (2) 6 (2) 7 (2) 8 (2) 9 (2)\n",
      "10 (3) 11 (1) 12 (3) 13 (2) 14 (3) 15 (2) 16 (2) 17 (2) 18 (3)\n",
      "19 (2) 20 (2) 21 (2) 22 (3) 23 (2) 24 (1) 25 (2) 26 (3) 27 (2)\n",
      "28 (2) 29 (2) 30 (3) 31 (3) 32 (2) 33 (2) 34 (2) 35 (2) 36 (2)\n",
      "37 (2) 38 (3) 39 (2) 40 (2) 41 (2) 42 (2) 43 (3) 44 (2) 45 (1)\n",
      "46 (1) 47 (2) 48 (1) 49 (2) 50 (2) 51 (2) 52 (2) 53 (1) 54 (1)\n",
      "55 (3) 56 (2) 57 (2) 58 (2) 59 (3) 60 (3) 61 (3) 62 (2) 63 (2)\n",
      "64 (2) 65 (2) 66 (2) 67 (3) 68 (2) 69 (2) 70 (2) 71 (2) 72 (2)\n",
      "73 (2) 74 (2) 75 (2) 76 (3) 77 (2) 78 (2) 79 (2) 80 (1) 81 (2)\n",
      "82 (2) 83 (3) 84 (1) 85 (2) 86 (3) 87 (2) 88 (2) 89 (2) 90 (2)\n",
      "91 (2) 92 (2) 93 (2) 94 (2) 95 (2) 96 (2) 97 (2) 98 (2) 99 (2)\n",
      "\n"
     ]
    }
   ],
   "source": [
    "for id_i in range(0, n_explanations):\n",
    "    path, true_rule, target = getPathDecisionTree(\n",
    "        pc.clf, pc.OH_X_test_cols.iloc[id_i : id_i + 1], pc, verbose=False\n",
    "    )\n",
    "\n",
    "    true_rule_oh = [1 if f in target else 0 for f in list(pc.feature_names)]\n",
    "\n",
    "    end_v = \"\\n\" if id_i % 9 == 0 else \" \"\n",
    "    print(f\"{id_i} ({len(target)})\", end=end_v)\n",
    "    from utils_RW import plot_lime_explanation\n",
    "\n",
    "    predicted_class = pc.predict_fn_class(pc.test.iloc[id_i].values.reshape(1, -1))[\n",
    "        0\n",
    "    ]\n",
    "\n",
    "    exp_lime = lime_explainer.explain_instance(\n",
    "        pc.test.iloc[id_i].values,\n",
    "        pc.predict_fn,\n",
    "        num_features=len(pc.feature_names),\n",
    "        labels=[predicted_class],\n",
    "    )\n",
    "\n",
    "    if showExplanation:\n",
    "        print(\"LIME\")\n",
    "        fig_lime = plot_lime_explanation(\n",
    "            exp_lime,\n",
    "            label=predicted_class,\n",
    "            pred=pc.class_names[\n",
    "                np.argmax(pc.predict_fn(pc.test.iloc[id_i : id_i + 1].values))\n",
    "            ],\n",
    "            true_label=pc.class_names[pc.labels_test[id_i]],\n",
    "        )\n",
    "        if saveFig:\n",
    "            saveFigure(fig_lime, outdir_lime, id_i, \"lime\")\n",
    "    exp_lime_dict = lime_explanation_attr_sorted(exp_lime, predicted_class)\n",
    "    lime_targets[id_i] = evaluateRankingTarget(\n",
    "        exp_lime_dict, list(pc.feature_names), target\n",
    "    )\n",
    "    lime_targets_abs[id_i] = evaluateRankingTarget(\n",
    "        exp_lime_dict, list(pc.feature_names), target, absValue=True\n",
    "    )\n",
    "\n",
    "    expl_lime_fi = np.asarray((list(exp_lime_dict.values())))\n",
    "\n",
    "    feature_f1_score[\"LIME\"][id_i] = rule_based_similarity(\n",
    "        np.asarray(true_rule_oh),\n",
    "        np.asarray(feature_hit_oh_encoding(exp_lime_dict.values())),\n",
    "    )\n",
    "    feature_f1_score_delta[\"LIME\"][id_i] = rule_based_similarity(\n",
    "        np.asarray(true_rule_oh),\n",
    "        np.asarray(feature_hit_oh_encoding_delta(exp_lime_dict.values())),\n",
    "    )\n",
    "\n",
    "    from utils_RW import sumCategories, plotShapValues, convertInstance\n",
    "\n",
    "    instance = pc.OH_X_test_cols.iloc[id_i]\n",
    "    shap_values = shap_explainer.shap_values(instance)\n",
    "    matching_instance = convertInstance(\n",
    "        instance, pc.categorical_features, pc.continuos_features\n",
    "    )\n",
    "\n",
    "    sum_shap_for_categories = sumCategories(\n",
    "        shap_values[predicted_class],\n",
    "        pc.oh_columns,\n",
    "        pc.categorical_features,\n",
    "        matching_instance,\n",
    "    )\n",
    "    if showExplanation:\n",
    "        print(\"SHAP\")\n",
    "        fig_shap = plotShapValues(\n",
    "            list(sum_shap_for_categories.values()),\n",
    "            list(sum_shap_for_categories.keys()),\n",
    "            target_class=pc.class_names[predicted_class],\n",
    "            pred=pc.class_names[pc.clf.predict([instance])[0]],\n",
    "            true=pc.class_names[pc.labels_test[id_i]],\n",
    "        )\n",
    "        if saveFig:\n",
    "            saveFigure(fig_shap, outdir_shap, id_i, \"shap\")\n",
    "    shap_targets[id_i] = evaluateRankingTarget(\n",
    "        sum_shap_for_categories, list(pc.feature_names), target\n",
    "    )\n",
    "    shap_targets_abs[id_i] = evaluateRankingTarget(\n",
    "        sum_shap_for_categories, list(pc.feature_names), target, absValue=True\n",
    "    )\n",
    "    expl_shap_fi = np.asarray((list(sum_shap_for_categories.values())))\n",
    "\n",
    "    feature_f1_score[\"SHAP\"][id_i] = rule_based_similarity(\n",
    "        np.asarray(true_rule_oh),\n",
    "        np.asarray(feature_hit_oh_encoding(sum_shap_for_categories.values())),\n",
    "    )\n",
    "    feature_f1_score_delta[\"SHAP\"][id_i] = rule_based_similarity(\n",
    "        np.asarray(true_rule_oh),\n",
    "        np.asarray(feature_hit_oh_encoding_delta(sum_shap_for_categories.values())),\n",
    "    )\n",
    "\n",
    "    from utils_RW import printAnchor, dictAnchor\n",
    "\n",
    "    exp_anchor = anchor_explainer.explain_instance(\n",
    "        pc.test.iloc[id_i].values, pc.predict_fn_class, threshold=0.95\n",
    "    )\n",
    "\n",
    "    if showExplanation:\n",
    "        printAnchor(id_i, exp_anchor)\n",
    "        dictAnchor(id_i, exp_anchor)\n",
    "    attributes_anchor_rules = [[\n",
    "        list(pc.feature_names)[attr] for attr in exp_anchor.features()\n",
    "    ]]\n",
    "    anchor_hits, anchor_rules_hit = computeHits(\n",
    "        attributes_anchor_rules, target, anchor_hits, verbose=False\n",
    "    )\n",
    "    anchor_rules_hit_all.append(anchor_rules_hit)\n",
    "\n",
    "    rules_anchor_oh = [\n",
    "        oh_encoding_rule(rule, pc.feature_names) for rule in attributes_anchor_rules\n",
    "    ]\n",
    "    if rules_anchor_oh ==[]:\n",
    "        rules_anchor_oh = [oh_encoding_rule([], pc.feature_names)]\n",
    "\n",
    "    rule_f1_score[\"anchor\"][id_i] = max(\n",
    "        [\n",
    "            rule_based_similarity(np.asarray(r), np.asarray(true_rule_oh))\n",
    "            for r in rules_anchor_oh\n",
    "        ]\n",
    "    )\n",
    "\n",
    "    featureMasking = True\n",
    "    instance = pc.d_explain[id_i]\n",
    "    infos = {\"model\": classifier_name}\n",
    "    instance_discretized = pc.d_explain.getDiscretizedInstance(id_i)\n",
    "    explanation_fm = lace_explainer.explain_instance(\n",
    "        instance,\n",
    "        pc.class_names[predicted_class],\n",
    "        featureMasking=featureMasking,\n",
    "        discretizedInstance=instance_discretized,\n",
    "        verbose=False,\n",
    "    )\n",
    "    if showExplanation:\n",
    "        fig_lace = explanation_fm.plotExplanation(showRuleKey=False, retFig=True)\n",
    "        # explanation_fm.local_rules.printLocalRules()\n",
    "        if saveFig:\n",
    "            saveFigure(fig_lace, outdir_lace, id_i, \"lace\")\n",
    "        changes = explanation_fm.estimateSingleAttributeChangePrediction()\n",
    "        #if changes:\n",
    "        #    print(changes)\n",
    "    prediction_difference_attr = (\n",
    "        explanation_fm.getPredictionDifferenceDict()\n",
    "    )  # {attrs_values[i]:explanation_fm.diff_single[i] for i in range(0,len(explanation_fm.diff_single))}\n",
    "    lace_targets[id_i] = evaluateRankingTarget(\n",
    "        prediction_difference_attr, list(pc.feature_names), target\n",
    "    )\n",
    "    lace_targets_abs[id_i] = evaluateRankingTarget(\n",
    "        prediction_difference_attr, list(pc.feature_names), target, absValue=True\n",
    "    )\n",
    "    attributes_lace_rules = explanation_fm.getAttributesRules()\n",
    "    lace_hits, lace_rules_hit = computeHits(\n",
    "        attributes_lace_rules, target, lace_hits, verbose=False\n",
    "    )\n",
    "    lace_rules_hit_all.append(lace_rules_hit)\n",
    "\n",
    "    expl_lace_fi = np.asarray((list(prediction_difference_attr.values())))\n",
    "\n",
    "    feature_f1_score[\"LACE\"][id_i] = rule_based_similarity(\n",
    "        np.asarray(true_rule_oh),\n",
    "        np.asarray(feature_hit_oh_encoding(prediction_difference_attr.values())),\n",
    "    )\n",
    "    feature_f1_score_delta[\"LACE\"][id_i] = rule_based_similarity(\n",
    "        np.asarray(true_rule_oh),\n",
    "        np.asarray(\n",
    "            feature_hit_oh_encoding_delta(prediction_difference_attr.values())\n",
    "        ),\n",
    "    )\n",
    "\n",
    "    rules_lace_oh = [\n",
    "        oh_encoding_rule(rule, pc.feature_names) for rule in attributes_lace_rules\n",
    "    ]\n",
    "\n",
    "    if rules_lace_oh == []:\n",
    "        rules_lace_oh = [oh_encoding_rule([], pc.feature_names)]\n",
    "    rule_f1_score[\"LACE\"][id_i] = max(\n",
    "        [\n",
    "            rule_based_similarity(np.asarray(r), np.asarray(true_rule_oh))\n",
    "            for r in rules_lace_oh\n",
    "        ]\n",
    "    )\n",
    "print()\n"
   ]
  },
  {
   "cell_type": "code",
   "execution_count": 43,
   "metadata": {
    "ExecuteTime": {
     "end_time": "2021-06-29T13:27:40.277107Z",
     "start_time": "2021-06-29T13:27:40.260296Z"
    }
   },
   "outputs": [
    {
     "data": {
      "text/plain": [
       "(frozenset({'age_cat!=Less than 25', 'priors_count=0.0'}),\n",
       " frozenset({'age_cat=25 - 45', 'priors_count=0.0'}),\n",
       " frozenset({'age_cat', 'priors_count'}))"
      ]
     },
     "execution_count": 43,
     "metadata": {},
     "output_type": "execute_result"
    }
   ],
   "source": [
    "path, true_rule, target"
   ]
  },
  {
   "cell_type": "code",
   "execution_count": 47,
   "metadata": {
    "ExecuteTime": {
     "end_time": "2021-06-29T13:29:05.565135Z",
     "start_time": "2021-06-29T13:29:05.556604Z"
    }
   },
   "outputs": [],
   "source": [
    "printResComplete=False"
   ]
  },
  {
   "cell_type": "code",
   "execution_count": 50,
   "metadata": {
    "ExecuteTime": {
     "end_time": "2021-06-29T13:30:22.135564Z",
     "start_time": "2021-06-29T13:30:22.128038Z"
    }
   },
   "outputs": [],
   "source": [
    "if printResComplete:\n",
    "    print(\"feature_f1_score\", feature_f1_score)"
   ]
  },
  {
   "cell_type": "code",
   "execution_count": 49,
   "metadata": {
    "ExecuteTime": {
     "end_time": "2021-06-29T13:29:56.481108Z",
     "start_time": "2021-06-29T13:29:56.470416Z"
    }
   },
   "outputs": [],
   "source": [
    "if printResComplete:\n",
    "    print(\"lace_rules_hit_all\", lace_rules_hit_all)\n",
    "    print(\"anchor_rules_hit_all\", anchor_rules_hit_all)"
   ]
  },
  {
   "cell_type": "code",
   "execution_count": 53,
   "metadata": {
    "ExecuteTime": {
     "end_time": "2021-06-29T13:30:42.876871Z",
     "start_time": "2021-06-29T13:30:42.861063Z"
    }
   },
   "outputs": [
    {
     "name": "stdout",
     "output_type": "stream",
     "text": [
      "feature_f1_score_mean\n",
      "{'LIME': 0.5119047619047619, 'SHAP': 0.8099999999999998, 'LACE': 1.0}\n",
      "\n",
      "feature_f1_score_delta_mean\n",
      "{'LIME': 0.7403333333333333, 'SHAP': 0.8366666666666667, 'LACE': 1.0}\n",
      "\n",
      "rule_f1_score_mean\n",
      "{'anchor': 0.819857142857143, 'LACE': 0.8311428571428572}\n"
     ]
    }
   ],
   "source": [
    "if printResComplete:\n",
    "    print(\"feature_f1_score\")\n",
    "    print(feature_f1_score)\n",
    "\n",
    "    print(\"feature_f1_score_delta\")\n",
    "    print(feature_f1_score_delta)\n",
    "\n",
    "    print(\"rule_f1_score\")\n",
    "    print(rule_f1_score)\n",
    "\n",
    "feature_f1_score_mean = computeAverage(feature_f1_score)\n",
    "print(\"feature_f1_score_mean\")\n",
    "print(feature_f1_score_mean)\n",
    "\n",
    "feature_f1_score_delta_mean = computeAverage(feature_f1_score_delta)\n",
    "print(\"\\nfeature_f1_score_delta_mean\")\n",
    "print(feature_f1_score_delta_mean)\n",
    "\n",
    "rule_f1_score_mean = computeAverage(rule_f1_score)\n",
    "print(\"\\nrule_f1_score_mean\")\n",
    "print(rule_f1_score_mean)"
   ]
  },
  {
   "cell_type": "markdown",
   "metadata": {},
   "source": [
    "### Ranking"
   ]
  },
  {
   "cell_type": "code",
   "execution_count": 55,
   "metadata": {
    "ExecuteTime": {
     "end_time": "2021-06-29T13:30:51.950653Z",
     "start_time": "2021-06-29T13:30:51.945696Z"
    }
   },
   "outputs": [],
   "source": [
    "if printResComplete:\n",
    "    print(\"LIME\")\n",
    "    print(lime_targets)\n",
    "    print(\"SHAP\")\n",
    "    print(shap_targets)\n",
    "    print(\"LACE\")\n",
    "    print(lace_targets)"
   ]
  },
  {
   "cell_type": "code",
   "execution_count": 56,
   "metadata": {
    "ExecuteTime": {
     "end_time": "2021-06-29T13:30:53.834925Z",
     "start_time": "2021-06-29T13:30:53.804926Z"
    }
   },
   "outputs": [
    {
     "name": "stdout",
     "output_type": "stream",
     "text": [
      "LIME 0.7683333333333334\n",
      "SHAP 0.8983333333333334\n",
      "LACE 0.8916666666666666\n"
     ]
    }
   ],
   "source": [
    "print(\"LIME\", np.mean(list(lime_targets.values())))\n",
    "print(\"SHAP\", np.mean(list(shap_targets.values())))\n",
    "print(\"LACE\", np.mean(list(lace_targets.values())))"
   ]
  },
  {
   "cell_type": "markdown",
   "metadata": {},
   "source": [
    "### Rule hits"
   ]
  },
  {
   "cell_type": "code",
   "execution_count": 57,
   "metadata": {
    "ExecuteTime": {
     "end_time": "2021-06-29T13:31:01.429866Z",
     "start_time": "2021-06-29T13:31:01.403850Z"
    }
   },
   "outputs": [
    {
     "name": "stdout",
     "output_type": "stream",
     "text": [
      "LACE\n",
      "{'hit': 57, 'partial_hit_superset': 8, 'partial_hit_subset': 28}\n",
      "Anchor\n",
      "{'hit': 42, 'partial_hit_superset': 26, 'partial_hit_subset': 32}\n"
     ]
    }
   ],
   "source": [
    "print(\"LACE\")\n",
    "print(lace_hits)\n",
    "print(\"Anchor\")\n",
    "print(anchor_hits)"
   ]
  },
  {
   "cell_type": "code",
   "execution_count": 58,
   "metadata": {
    "ExecuteTime": {
     "end_time": "2021-06-29T13:31:08.445425Z",
     "start_time": "2021-06-29T13:31:08.436364Z"
    }
   },
   "outputs": [],
   "source": [
    "if saveResults:\n",
    "    saveJson(lace_hits, \"lace_hits\", outputDirResults)\n",
    "    saveJson(anchor_hits, \"anchor_hits\", outputDirResults)\n",
    "    saveJson(lime_targets, \"lime_targets\", outputDirResults)\n",
    "    saveJson(shap_targets, \"shap_targets\", outputDirResults)\n",
    "    saveJson(lace_hits, \"lace_targets\", outputDirResults)\n",
    "\n",
    "\n",
    "    mean_hit_targets={\"LIME\": np.mean(list(lime_targets.values())), \n",
    "    \"SHAP\":np.mean(list(shap_targets.values())),\n",
    "    \"LACE\":np.mean(list(lace_targets.values()))}\n",
    "\n",
    "    saveJson(mean_hit_targets, \"mean_hit_targets\", outputDirResults)"
   ]
  },
  {
   "cell_type": "markdown",
   "metadata": {},
   "source": [
    "### Ranking abs"
   ]
  },
  {
   "cell_type": "code",
   "execution_count": 60,
   "metadata": {
    "ExecuteTime": {
     "end_time": "2021-06-29T13:31:17.368694Z",
     "start_time": "2021-06-29T13:31:17.361085Z"
    }
   },
   "outputs": [],
   "source": [
    "if printResComplete:\n",
    "    print(\"LIME abs\")\n",
    "    print(lime_targets_abs)\n",
    "    print(\"SHAP abs\")\n",
    "    print(shap_targets_abs)\n",
    "    print(\"LACE abs\")\n",
    "    print(lace_targets_abs)"
   ]
  },
  {
   "cell_type": "code",
   "execution_count": 61,
   "metadata": {
    "ExecuteTime": {
     "end_time": "2021-06-29T13:31:19.180041Z",
     "start_time": "2021-06-29T13:31:19.168381Z"
    }
   },
   "outputs": [
    {
     "name": "stdout",
     "output_type": "stream",
     "text": [
      "LIME abs 1.0\n",
      "SHAP abs 0.98\n",
      "LACE abs 1.0\n"
     ]
    }
   ],
   "source": [
    "print(\"LIME abs\", np.mean(list(lime_targets_abs.values())))\n",
    "print(\"SHAP abs\", np.mean(list(shap_targets_abs.values())))\n",
    "print(\"LACE abs\", np.mean(list(lace_targets_abs.values())))"
   ]
  },
  {
   "cell_type": "code",
   "execution_count": 62,
   "metadata": {
    "ExecuteTime": {
     "end_time": "2021-06-29T13:31:22.119958Z",
     "start_time": "2021-06-29T13:31:22.104278Z"
    }
   },
   "outputs": [],
   "source": [
    "if saveResults:\n",
    "    saveJson(lime_targets_abs, \"lime_targets_abs\", outputDirResults)\n",
    "    saveJson(shap_targets_abs, \"shap_targets_abs\", outputDirResults)\n",
    "    saveJson(lace_targets_abs, \"lace_targets_abs\", outputDirResults)\n",
    "\n",
    "\n",
    "    mean_hit_targets_abs={\"LIME\": np.mean(list(lime_targets_abs.values())), \n",
    "    \"SHAP\":np.mean(list(shap_targets_abs.values())),\n",
    "    \"LACE\":np.mean(list(lace_targets_abs.values()))}\n",
    "\n",
    "    saveJson(mean_hit_targets_abs, \"mean_hit_targets_abs\", outputDirResults)"
   ]
  },
  {
   "cell_type": "markdown",
   "metadata": {},
   "source": [
    "## Rule hit"
   ]
  },
  {
   "cell_type": "code",
   "execution_count": 63,
   "metadata": {
    "ExecuteTime": {
     "end_time": "2021-06-29T13:31:23.931633Z",
     "start_time": "2021-06-29T13:31:23.914823Z"
    }
   },
   "outputs": [],
   "source": [
    "from utils_RW import showHits"
   ]
  },
  {
   "cell_type": "code",
   "execution_count": 64,
   "metadata": {
    "ExecuteTime": {
     "end_time": "2021-06-29T13:31:24.948017Z",
     "start_time": "2021-06-29T13:31:24.943566Z"
    }
   },
   "outputs": [
    {
     "name": "stdout",
     "output_type": "stream",
     "text": [
      "{'hit': 42, 'partial_hit_superset': 26, 'partial_hit_subset': 32}\n",
      "{'hit': 57, 'partial_hit_superset': 8, 'partial_hit_subset': 28}\n"
     ]
    }
   ],
   "source": [
    "print(anchor_hits)\n",
    "print(lace_hits)\n",
    "hits_dict_summary={}\n",
    "hits_dict_summary[\"LACE\"]=lace_hits\n",
    "hits_dict_summary[\"anchor\"]=anchor_hits"
   ]
  },
  {
   "cell_type": "code",
   "execution_count": 65,
   "metadata": {
    "ExecuteTime": {
     "end_time": "2021-06-29T13:31:27.513223Z",
     "start_time": "2021-06-29T13:31:27.193256Z"
    }
   },
   "outputs": [
    {
     "data": {
      "image/png": "[encoded data removed]",
      "text/plain": [
       "<Figure size 432x288 with 1 Axes>"
      ]
     },
     "metadata": {
      "needs_background": "light"
     },
     "output_type": "display_data"
    }
   ],
   "source": [
    "showHits(hits_dict_summary, upperLabel=n_explanations, percentage=True, saveFig=saveResults, outDir=outputDirResults)"
   ]
  }
 ],
 "metadata": {
  "hide_input": false,
  "kernelspec": {
   "display_name": "Python 3",
   "language": "python",
   "name": "python3"
  },
  "language_info": {
   "codemirror_mode": {
    "name": "ipython",
    "version": 3
   },
   "file_extension": ".py",
   "mimetype": "text/x-python",
   "name": "python",
   "nbconvert_exporter": "python",
   "pygments_lexer": "ipython3",
   "version": "3.8.5"
  },
  "toc": {
   "base_numbering": 1,
   "nav_menu": {},
   "number_sections": true,
   "sideBar": true,
   "skip_h1_title": false,
   "title_cell": "Table of Contents",
   "title_sidebar": "Contents",
   "toc_cell": false,
   "toc_position": {
    "height": "406px",
    "left": "573px",
    "top": "110px",
    "width": "281.989px"
   },
   "toc_section_display": true,
   "toc_window_display": true
  },
  "varInspector": {
   "cols": {
    "lenName": 16,
    "lenType": 16,
    "lenVar": 40
   },
   "kernels_config": {
    "python": {
     "delete_cmd_postfix": "",
     "delete_cmd_prefix": "del ",
     "library": "var_list.py",
     "varRefreshCmd": "print(var_dic_list())"
    },
    "r": {
     "delete_cmd_postfix": ") ",
     "delete_cmd_prefix": "rm(",
     "library": "var_list.r",
     "varRefreshCmd": "cat(var_dic_list()) "
    }
   },
   "types_to_exclude": [
    "module",
    "function",
    "builtin_function_or_method",
    "instance",
    "_Feature"
   ],
   "window_display": false
  }
 },
 "nbformat": 4,
 "nbformat_minor": 4
}
