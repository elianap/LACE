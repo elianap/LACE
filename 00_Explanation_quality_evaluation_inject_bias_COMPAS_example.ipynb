{
 "cells": [
  {
   "cell_type": "code",
   "execution_count": 1,
   "metadata": {
    "ExecuteTime": {
     "end_time": "2021-06-29T12:45:28.388896Z",
     "start_time": "2021-06-29T12:45:28.382456Z"
    }
   },
   "outputs": [],
   "source": [
    "from quality_evaluation import (\n",
    "    evaluateRankingTarget,\n",
    "    feature_hit_oh_encoding,\n",
    "    feature_hit_oh_encoding_delta,\n",
    "    lime_explanation_attr_sorted,\n",
    "    feature_importance_similarity,\n",
    "    rule_based_similarity,\n",
    "    computeHits,\n",
    "    oh_encoding_rule,\n",
    "    computeAverage,\n",
    "    explanation_precision_recall_f1_score, \n",
    "    explanation_precision, explanation_recall\n",
    ")"
   ]
  },
  {
   "cell_type": "code",
   "execution_count": 2,
   "metadata": {
    "ExecuteTime": {
     "end_time": "2021-06-29T12:45:28.733870Z",
     "start_time": "2021-06-29T12:45:28.391504Z"
    }
   },
   "outputs": [],
   "source": [
    "import numpy as np\n",
    "import pandas as pd\n",
    "\n",
    "pd.set_option(\"display.max_colwidth\", None)\n",
    "\n",
    "outputF = True\n",
    "toCompute = True\n",
    "toComputeSHAP = True\n",
    "toComputeLIME = True"
   ]
  },
  {
   "cell_type": "code",
   "execution_count": 3,
   "metadata": {
    "ExecuteTime": {
     "end_time": "2021-06-29T12:45:28.738155Z",
     "start_time": "2021-06-29T12:45:28.735537Z"
    }
   },
   "outputs": [],
   "source": [
    "dataset_name = \"compas\"\n",
    "classifier_name = \"RF\"\n",
    "\n",
    "results_output = \"results/quality_evaluation/inject_bias/{dataset_name}_{classifier_name}\"\n",
    "\n",
    "saveResults = False"
   ]
  },
  {
   "cell_type": "markdown",
   "metadata": {},
   "source": [
    "# Patterns - injected bias"
   ]
  },
  {
   "cell_type": "code",
   "execution_count": 4,
   "metadata": {
    "ExecuteTime": {
     "end_time": "2021-06-29T12:45:28.746135Z",
     "start_time": "2021-06-29T12:45:28.739816Z"
    }
   },
   "outputs": [],
   "source": [
    "import operator\n",
    "\n",
    "target_values_printables = [\n",
    "    {\"age_cat\": (\"=\", \"Greater than 45\"), \"c_charge_degree\": (\"=\", \"M\")},\n",
    "    {\"age_cat\": (\"=\", \"25 - 45\"), \"c_charge_degree\": (\"=\", \"M\")},\n",
    "    {\"age_cat\": (\"=\", \"Less than 25\"), \"c_charge_degree\": (\"=\", \"M\")},\n",
    "    {\"age_cat\": (\"=\", \"Greater than 45\"), \"c_charge_degree\": (\"=\", \"F\")},\n",
    "    {\"age_cat\": (\"=\", \"25 - 45\"), \"c_charge_degree\": (\"=\", \"F\")},\n",
    "    {\"age_cat\": (\"=\", \"Less than 25\"), \"c_charge_degree\": (\"=\", \"F\")},\n",
    "    {\"age_cat\": (\"=\", \"Greater than 45\"), \"race\": (\"=\", \"Caucasian\")},\n",
    "    {\"age_cat\": (\"=\", \"25 - 45\"), \"race\": (\"=\", \"Caucasian\")},\n",
    "    {\"age_cat\": (\"=\", \"Less than 25\"), \"race\": (\"=\", \"Caucasian\")},\n",
    "    {\"age_cat\": (\"=\", \"Greater than 45\"), \"race\": (\"=\", \"African-American\")},\n",
    "    {\"age_cat\": (\"=\", \"25 - 45\"), \"race\": (\"=\", \"African-American\")},\n",
    "    {\"age_cat\": (\"=\", \"Less than 25\"), \"race\": (\"=\", \"African-American\")},\n",
    "    {\"age_cat\": (\"=\", \"Greater than 45\"), \"priors_count\": (\">\", 4)},\n",
    "    {\"age_cat\": (\"=\", \"Less than 25\"), \"priors_count\": (\"<=\", 1)},\n",
    "    {\"age_cat\": (\"=\", \"25 - 45\"), \"priors_count\": (\"<=\", 1)},\n",
    "    {\"age_cat\": (\"=\", \"Greater than 45\"), \"priors_count\": (\"<=\", 1)},\n",
    "    {\"age_cat\": (\"=\", \"Less than 25\"), \"length_of_stay\": (\"<=\", 1)},\n",
    "    {\"age_cat\": (\"=\", \"25 - 45\"), \"length_of_stay\": (\"<=\", 1)},\n",
    "    {\"age_cat\": (\"=\", \"Greater than 45\"), \"length_of_stay\": (\"<=\", 1)},\n",
    "    {\"race\": (\"=\", \"Caucasian\"), \"c_charge_degree\": (\"=\", \"M\")},\n",
    "]\n",
    "relation_dict = {\"=\": operator.eq, \"<=\": operator.le, \">\": operator.gt}"
   ]
  },
  {
   "cell_type": "markdown",
   "metadata": {},
   "source": [
    "# Inject bias"
   ]
  },
  {
   "cell_type": "markdown",
   "metadata": {},
   "source": [
    "## Pattern"
   ]
  },
  {
   "cell_type": "code",
   "execution_count": 5,
   "metadata": {
    "ExecuteTime": {
     "end_time": "2021-06-29T12:45:28.752263Z",
     "start_time": "2021-06-29T12:45:28.747333Z"
    }
   },
   "outputs": [
    {
     "name": "stdout",
     "output_type": "stream",
     "text": [
      "Inject bias: {'age_cat': ('=', 'Greater than 45'), 'c_charge_degree': ('=', 'M')}\n"
     ]
    }
   ],
   "source": [
    "version=0\n",
    "target_values_printable=target_values_printables[version]\n",
    "\n",
    "if saveResults:\n",
    "    from src.utils import saveJson\n",
    "    from pathlib import Path\n",
    "    Path(outputDirResults).mkdir(parents=True, exist_ok=True)\n",
    "    \n",
    "    \n",
    "print(f\"Inject bias: {target_values_printable}\")\n",
    "target_values = {\n",
    "    k: (relation_dict[rel_val[0]], rel_val[1])\n",
    "    for k, rel_val in target_values_printable.items()\n",
    "}\n"
   ]
  },
  {
   "cell_type": "markdown",
   "metadata": {},
   "source": [
    "## Import dataset"
   ]
  },
  {
   "cell_type": "code",
   "execution_count": 6,
   "metadata": {
    "ExecuteTime": {
     "end_time": "2021-06-29T12:45:29.253639Z",
     "start_time": "2021-06-29T12:45:28.756219Z"
    }
   },
   "outputs": [],
   "source": [
    "\n",
    "from src.import_datasets import import_process_compas\n",
    "\n",
    "risk_class_type = False\n",
    "dfI = import_process_compas(discretize=False, risk_class=risk_class_type)\n",
    "dfI.reset_index(drop=True, inplace=True)\n",
    "dfI[\"class\"].replace({0: \"Not recidivate\", 1: \"Recidivate\"}, inplace=True)\n",
    "df = dfI.copy()\n",
    "df.head()\n",
    "\n",
    "from sklearn import model_selection\n",
    "import numpy as np\n",
    "\n",
    "np.random.seed(42)\n",
    "df_train, df_test = model_selection.train_test_split(df, train_size=0.7)"
   ]
  },
  {
   "cell_type": "markdown",
   "metadata": {
    "ExecuteTime": {
     "end_time": "2021-06-29T12:36:47.916711Z",
     "start_time": "2021-06-29T12:36:47.913646Z"
    }
   },
   "source": [
    "## Modify training"
   ]
  },
  {
   "cell_type": "code",
   "execution_count": 7,
   "metadata": {
    "ExecuteTime": {
     "end_time": "2021-06-29T12:45:29.720300Z",
     "start_time": "2021-06-29T12:45:29.254898Z"
    }
   },
   "outputs": [
    {
     "name": "stdout",
     "output_type": "stream",
     "text": [
      "Accuracy:  0.6015\n"
     ]
    }
   ],
   "source": [
    "from copy import deepcopy\n",
    "\n",
    "df_bias = deepcopy(df_train)\n",
    "df_bias_index = deepcopy(df_train)\n",
    "\n",
    "for attr, op_value in target_values.items():\n",
    "    operation, value = op_value[0], op_value[1]\n",
    "    df_bias_index = df_bias_index.loc[operation(df_bias_index[attr], value)]\n",
    "id_mod = df_bias_index.index\n",
    "df_bias.loc[id_mod, \"class\"] = \"Recidivate\"\n",
    "\n",
    "### MODIFIED!!!!\n",
    "if saveResults:\n",
    "    saveJson(target_values_printable, \"bias_type\", outputDirResults)\n",
    "\n",
    "# # Process data\n",
    "from ProcessedDataset_v2 import ProcessedDatasetTrainTest\n",
    "\n",
    "pc = ProcessedDatasetTrainTest(df_bias, df_test)\n",
    "\n",
    "if classifier_name == \"RF\":\n",
    "    from sklearn.ensemble import RandomForestClassifier\n",
    "\n",
    "    clf_init = RandomForestClassifier(random_state=42)\n",
    "else:\n",
    "    from sklearn.neural_network import MLPClassifier\n",
    "\n",
    "    clf_init = MLPClassifier(random_state=42)\n",
    "pc.processTrainTestDataset(clf_init)  # , dataset_name=dataset_name)\n",
    "\n",
    "predicted = np.argmax(pc.predict_fn(pc.test.values), axis=1)\n",
    "mispredicted = [i for i, p in enumerate(predicted) if p != pc.labels_test[i]]\n",
    "correct_prediction = [i for i, p in enumerate(predicted) if p == pc.labels_test[i]]\n",
    "\n",
    "from sklearn.metrics import accuracy_score\n",
    "\n",
    "print(\"Accuracy: \", round(accuracy_score(pc.labels_test, predicted), 4))"
   ]
  },
  {
   "cell_type": "markdown",
   "metadata": {},
   "source": [
    "## Explainers"
   ]
  },
  {
   "cell_type": "code",
   "execution_count": 8,
   "metadata": {
    "ExecuteTime": {
     "end_time": "2021-06-29T12:45:30.311308Z",
     "start_time": "2021-06-29T12:45:29.722662Z"
    }
   },
   "outputs": [],
   "source": [
    "\n",
    "# # LIME\n",
    "import lime\n",
    "import lime.lime_tabular\n",
    "\n",
    "np.random.seed(1)\n",
    "\n",
    "if toComputeLIME:\n",
    "    lime_explainer = lime.lime_tabular.LimeTabularExplainer(\n",
    "        pc.train.values,\n",
    "        feature_names=pc.feature_names,\n",
    "        class_names=pc.class_names,\n",
    "        categorical_features=pc.categorical_features_pos,\n",
    "        categorical_names=pc.categorical_names_LE,\n",
    "        kernel_width=3,\n",
    "    )\n",
    "\n",
    "# # SHAP\n",
    "if toComputeSHAP:\n",
    "    import shap\n",
    "\n",
    "    if classifier_name == \"RF\":\n",
    "        shap_explainer = shap.TreeExplainer(pc.clf)\n",
    "    else:\n",
    "        # explainer = shap.KernelExplainer(predict_fn, OH_X_train.values, link=\"logit\")\n",
    "        shap_explainer = shap.KernelExplainer(\n",
    "            model=pc.predict_fn_OH, data=pc.OH_X_train.values\n",
    "        )  # , link=\"logit\")\n",
    "\n",
    "    # shap_values = shap_explainer.shap_values(pc.OH_X_test_cols.iloc[0:10])\n",
    "    # shap_values = explainer.shap_values(OH_X_test_cols.iloc[0:5])\n",
    "\n",
    "# # Anchor\n",
    "from anchor import utils\n",
    "from anchor import anchor_tabular\n",
    "\n",
    "anchor_explainer = anchor_tabular.AnchorTabularExplainer(\n",
    "    pc.class_names, pc.feature_names, pc.train.values, pc.categorical_names_LE\n",
    ")\n",
    "\n",
    "# # LACE\n",
    "from src.LACE_explainer import LACE_explainer\n",
    "\n",
    "lace_explainer = LACE_explainer(pc.d_train, pc.predict_fn, dataset_name=\"COMPAS\")"
   ]
  },
  {
   "cell_type": "code",
   "execution_count": 9,
   "metadata": {
    "ExecuteTime": {
     "end_time": "2021-06-29T12:45:30.321758Z",
     "start_time": "2021-06-29T12:45:30.313035Z"
    }
   },
   "outputs": [
    {
     "name": "stdout",
     "output_type": "stream",
     "text": [
      "Number of total instances modified in the test dataset: 161\n",
      "{'age_cat': ('=', 'Greater than 45'), 'c_charge_degree': ('=', 'M')}\n"
     ]
    }
   ],
   "source": [
    "df_test = pc.test.copy()\n",
    "for attr, v in target_values.items():\n",
    "    if attr in pc.categorical_features:\n",
    "        v_encoded = pc.d_train.encodeAttribute(v[1], attr)[0]\n",
    "        df_test = df_test[v[0](df_test[attr], v_encoded)]\n",
    "    else:\n",
    "        df_test = df_test[v[0](df_test[attr], v[1])]\n",
    "indexes_ofI = [i for i, p in enumerate(pc.test.index) if p in df_test.index]\n",
    "\n",
    "print(\"Number of total instances modified in the test dataset:\", len(indexes_ofI))\n",
    "print(target_values_printable)"
   ]
  },
  {
   "cell_type": "markdown",
   "metadata": {},
   "source": [
    "# Compare explainers"
   ]
  },
  {
   "cell_type": "code",
   "execution_count": 10,
   "metadata": {
    "ExecuteTime": {
     "end_time": "2021-06-29T12:45:30.326309Z",
     "start_time": "2021-06-29T12:45:30.323559Z"
    }
   },
   "outputs": [],
   "source": [
    "# showExplanation = True\n",
    "# saveFig = False\n",
    "\n",
    "# from utils_RW import computeHits\n",
    "\n",
    "# target = target_values.keys()\n",
    "\n",
    "# # from utils_RW import evaluateRankingTarget\n",
    "\n",
    "\n",
    "\n",
    "# print(\"###############################################################\")\n",
    "# print(version)\n",
    "\n",
    "\n",
    "# "
   ]
  },
  {
   "cell_type": "code",
   "execution_count": 11,
   "metadata": {
    "ExecuteTime": {
     "end_time": "2021-06-29T12:45:30.331799Z",
     "start_time": "2021-06-29T12:45:30.328328Z"
    }
   },
   "outputs": [],
   "source": [
    "def saveFigure(figure, outdir, id_i, explainer_name=\"\", w=4, h=3):\n",
    "    figure.set_size_inches(w, h)\n",
    "    figure.savefig(f\"{outdir}/{explainer_name}_{id_i}.pdf\", bbox_inches=\"tight\")\n",
    "\n",
    "saveFig = False"
   ]
  },
  {
   "cell_type": "markdown",
   "metadata": {},
   "source": [
    "## Init"
   ]
  },
  {
   "cell_type": "code",
   "execution_count": 12,
   "metadata": {
    "ExecuteTime": {
     "end_time": "2021-06-29T12:45:30.342718Z",
     "start_time": "2021-06-29T12:45:30.333852Z"
    }
   },
   "outputs": [],
   "source": [
    "fi_explainers = [\"LIME\", \"SHAP\", \"LACE\"]\n",
    "feature_cosine = {e: {} for e in fi_explainers}\n",
    "feature_f1_score = {e: {} for e in fi_explainers}\n",
    "feature_recall = {e: {} for e in fi_explainers}\n",
    "feature_precision = {e: {} for e in fi_explainers}\n",
    "feature_f1_score_delta = {e: {} for e in fi_explainers}\n",
    "rule_explainers = [\"anchor\", \"LACE\"]\n",
    "rule_f1_score = {e: {} for e in rule_explainers}\n",
    "rule_precision = {e: {} for e in rule_explainers}\n",
    "rule_recall = {e: {} for e in rule_explainers}"
   ]
  },
  {
   "cell_type": "code",
   "execution_count": 13,
   "metadata": {
    "ExecuteTime": {
     "end_time": "2021-06-29T12:45:30.346893Z",
     "start_time": "2021-06-29T12:45:30.344177Z"
    }
   },
   "outputs": [],
   "source": [
    "lime_targets = {}\n",
    "shap_targets = {}\n",
    "lace_targets = {}\n",
    "lime_targets_abs = {}\n",
    "shap_targets_abs = {}\n",
    "lace_targets_abs = {}\n",
    "\n",
    "lace_hits = {\"hit\": 0, \"partial_hit_superset\": 0, \"partial_hit_subset\": 0}\n",
    "anchor_hits = {\"hit\": 0, \"partial_hit_superset\": 0, \"partial_hit_subset\": 0}\n",
    "lace_rules_hit_all = []\n",
    "anchor_rules_hit_all = []"
   ]
  },
  {
   "cell_type": "markdown",
   "metadata": {},
   "source": [
    "## Target values"
   ]
  },
  {
   "cell_type": "code",
   "execution_count": 14,
   "metadata": {
    "ExecuteTime": {
     "end_time": "2021-06-29T12:45:30.352373Z",
     "start_time": "2021-06-29T12:45:30.348415Z"
    }
   },
   "outputs": [
    {
     "name": "stdout",
     "output_type": "stream",
     "text": [
      "[1, 1, 0, 0, 0, 0]\n",
      "[0.5 0.5 0.  0.  0.  0. ]\n"
     ]
    }
   ],
   "source": [
    "target = target_values.keys()\n",
    "true_rule_oh = [1 if f in target else 0 for f in list(pc.feature_names)]\n",
    "\n",
    "target_vector = np.asarray(\n",
    "        [1.0 / float(len(target)) if i in target else 0 for i in pc.feature_names]\n",
    "    )\n",
    "print(true_rule_oh)\n",
    "print(target_vector)"
   ]
  },
  {
   "cell_type": "code",
   "execution_count": 15,
   "metadata": {
    "ExecuteTime": {
     "end_time": "2021-06-29T12:45:30.355598Z",
     "start_time": "2021-06-29T12:45:30.353540Z"
    }
   },
   "outputs": [],
   "source": [
    "#indexes_ofI[1:3]"
   ]
  },
  {
   "cell_type": "code",
   "execution_count": 16,
   "metadata": {
    "ExecuteTime": {
     "end_time": "2021-06-29T12:45:30.359061Z",
     "start_time": "2021-06-29T12:45:30.356735Z"
    }
   },
   "outputs": [],
   "source": [
    "showExplanation=False\n",
    "\n",
    "n_explanations=10"
   ]
  },
  {
   "cell_type": "markdown",
   "metadata": {},
   "source": [
    "## Explain instances"
   ]
  },
  {
   "cell_type": "code",
   "execution_count": 17,
   "metadata": {
    "ExecuteTime": {
     "end_time": "2021-06-29T12:46:38.590071Z",
     "start_time": "2021-06-29T12:45:30.360478Z"
    }
   },
   "outputs": [
    {
     "name": "stdout",
     "output_type": "stream",
     "text": [
      "17 (2)\n",
      "23 (2)\n",
      "24 (2)\n",
      "40 (2)\n",
      "64 (2)\n",
      "117 (2)\n",
      "118 (2)\n",
      "132 (2)\n",
      "137 (2)\n",
      "148 (2)\n",
      "\n"
     ]
    }
   ],
   "source": [
    "for id_i in indexes_ofI[0:n_explanations]:\n",
    "\n",
    "    print(f\"{id_i} ({len(target)})\")\n",
    "\n",
    "    predicted_class = pc.predict_fn_class(pc.test.iloc[id_i].values.reshape(1, -1))[\n",
    "        0\n",
    "    ]\n",
    "    from utils_RW import plot_lime_explanation\n",
    "\n",
    "    if toComputeLIME:\n",
    "        from utils_RW import lime_explanation_attr_sorted\n",
    "\n",
    "        exp_lime = lime_explainer.explain_instance(\n",
    "            pc.test.iloc[id_i].values,\n",
    "            pc.predict_fn,\n",
    "            num_features=len(pc.feature_names),\n",
    "            labels=[predicted_class],\n",
    "        )\n",
    "\n",
    "        if showExplanation:\n",
    "            print(\"LIME\")\n",
    "            fig_lime = plot_lime_explanation(\n",
    "                exp_lime,\n",
    "                label=predicted_class,\n",
    "                pred=pc.class_names[\n",
    "                    np.argmax(pc.predict_fn(pc.test.iloc[id_i : id_i + 1].values))\n",
    "                ],\n",
    "                true_label=pc.class_names[pc.labels_test[id_i]],\n",
    "            )\n",
    "            # if saveFig:\n",
    "            #     saveFigure(fig_lime, outdir_lime, id_i, \"lime\")\n",
    "        exp_lime_dict = lime_explanation_attr_sorted(exp_lime, predicted_class)\n",
    "        lime_targets[id_i] = evaluateRankingTarget(\n",
    "            exp_lime_dict, list(pc.feature_names), target\n",
    "        )\n",
    "        lime_targets_abs[id_i] = evaluateRankingTarget(\n",
    "            exp_lime_dict, list(pc.feature_names), target, absValue=True\n",
    "        )\n",
    "\n",
    "        expl_lime_fi = np.asarray((list(exp_lime_dict.values())))\n",
    "        feature_cosine[\"LIME\"][id_i] = feature_importance_similarity(\n",
    "            target_vector, expl_lime_fi\n",
    "        )\n",
    "\n",
    "        expl_lime_feature_vector=np.asarray(feature_hit_oh_encoding(exp_lime_dict.values()))\n",
    "\n",
    "        feature_precision[\"LIME\"][id_i], feature_recall[\"LIME\"][id_i], feature_f1_score[\"LIME\"][id_i], = explanation_precision_recall_f1_score(\n",
    "            np.asarray(true_rule_oh), expl_lime_feature_vector\n",
    "        )\n",
    "\n",
    "        feature_f1_score_delta[\"LIME\"][id_i] = rule_based_similarity(\n",
    "            np.asarray(true_rule_oh),\n",
    "            np.asarray(feature_hit_oh_encoding_delta(exp_lime_dict.values())),\n",
    "        )\n",
    "\n",
    "    if toComputeSHAP:\n",
    "        from utils_RW import sumCategories, plotShapValues, convertInstance\n",
    "\n",
    "        instance = pc.OH_X_test_cols.iloc[id_i]\n",
    "        shap_values = shap_explainer.shap_values(instance)\n",
    "        matching_instance = convertInstance(\n",
    "            instance, pc.categorical_features, pc.continuos_features\n",
    "        )\n",
    "\n",
    "        sum_shap_for_categories = sumCategories(\n",
    "            shap_values[predicted_class],\n",
    "            pc.oh_columns,\n",
    "            pc.categorical_features,\n",
    "            matching_instance,\n",
    "        )\n",
    "        if showExplanation:\n",
    "            print(\"SHAP\")\n",
    "            fig_shap = plotShapValues(\n",
    "                list(sum_shap_for_categories.values()),\n",
    "                list(sum_shap_for_categories.keys()),\n",
    "                target_class=pc.class_names[predicted_class],\n",
    "                pred=pc.class_names[pc.clf.predict([instance])[0]],\n",
    "                true=pc.class_names[pc.labels_test[id_i]],\n",
    "            )\n",
    "            # if saveFig:\n",
    "            #     saveFigure(fig_shap, outdir_shap, id_i, \"shap\")\n",
    "        shap_targets[id_i] = evaluateRankingTarget(\n",
    "            sum_shap_for_categories, list(pc.feature_names), target\n",
    "        )\n",
    "        shap_targets_abs[id_i] = evaluateRankingTarget(\n",
    "            sum_shap_for_categories, list(pc.feature_names), target, absValue=True\n",
    "        )\n",
    "        expl_shap_fi = np.asarray((list(sum_shap_for_categories.values())))\n",
    "        feature_cosine[\"SHAP\"][id_i] = feature_importance_similarity(\n",
    "            target_vector, expl_shap_fi\n",
    "        )\n",
    "\n",
    "\n",
    "        # )\n",
    "        feature_f1_score_delta[\"SHAP\"][id_i] = rule_based_similarity(\n",
    "            np.asarray(true_rule_oh),\n",
    "            np.asarray(\n",
    "                feature_hit_oh_encoding_delta(sum_shap_for_categories.values())\n",
    "            ),\n",
    "        )\n",
    "\n",
    "        expl_shap_feature_vector=np.asarray(feature_hit_oh_encoding(sum_shap_for_categories.values()))\n",
    "\n",
    "        feature_precision[\"SHAP\"][id_i], feature_recall[\"SHAP\"][id_i], feature_f1_score[\"SHAP\"][id_i], = explanation_precision_recall_f1_score(\n",
    "            np.asarray(true_rule_oh), expl_shap_feature_vector\n",
    "        )\n",
    "\n",
    "    from utils_RW import printAnchor, dictAnchor\n",
    "\n",
    "    exp_anchor = anchor_explainer.explain_instance(\n",
    "        pc.test.iloc[id_i].values, pc.predict_fn_class, threshold=0.95\n",
    "    )\n",
    "\n",
    "    if showExplanation:\n",
    "        printAnchor(id_i, exp_anchor)\n",
    "        dictAnchor(id_i, exp_anchor)\n",
    "    attributes_anchor_rules = [[\n",
    "        list(pc.feature_names)[attr] for attr in exp_anchor.features()\n",
    "    ]]\n",
    "    anchor_hits, anchor_rules_hit = computeHits(\n",
    "        attributes_anchor_rules, target, anchor_hits, verbose=False\n",
    "    )\n",
    "    anchor_rules_hit_all.append(anchor_rules_hit)\n",
    "\n",
    "    rules_anchor_oh = [\n",
    "        oh_encoding_rule(rule, pc.feature_names) for rule in attributes_anchor_rules\n",
    "    ]\n",
    "    if rules_anchor_oh ==[]:\n",
    "        rules_anchor_oh = [oh_encoding_rule([], pc.feature_names)]\n",
    "\n",
    "    rule_f1_score[\"anchor\"][id_i] = max(\n",
    "        [\n",
    "            rule_based_similarity(np.asarray(r), np.asarray(true_rule_oh))\n",
    "            for r in rules_anchor_oh\n",
    "        ]\n",
    "    )\n",
    "    rule_recall[\"anchor\"][id_i] = max(\n",
    "        [\n",
    "            explanation_recall(np.asarray(r), np.asarray(true_rule_oh))\n",
    "            for r in rules_anchor_oh\n",
    "        ]\n",
    "    )\n",
    "\n",
    "    rule_precision[\"anchor\"][id_i] = max(\n",
    "        [\n",
    "            explanation_precision(np.asarray(r), np.asarray(true_rule_oh))\n",
    "            for r in rules_anchor_oh\n",
    "        ]\n",
    "    )\n",
    "\n",
    "    featureMasking = True\n",
    "    instance = pc.d_explain[id_i]\n",
    "    infos = {\"model\": \"RF\"}\n",
    "    instance_discretized = pc.d_explain.getDiscretizedInstance(id_i)\n",
    "    explanation_fm = lace_explainer.explain_instance(\n",
    "        instance,\n",
    "        pc.class_names[predicted_class],\n",
    "        featureMasking=featureMasking,\n",
    "        discretizedInstance=instance_discretized,\n",
    "        verbose=False,\n",
    "    )\n",
    "    if showExplanation:\n",
    "        fig_lace = explanation_fm.plotExplanation(showRuleKey=True, retFig=True)\n",
    "        # explanation_fm.local_rules.printLocalRules()\n",
    "        # if saveFig:\n",
    "        #     saveFigure(fig_lace, outdir_lace, id_i, \"lace\")\n",
    "        changes = explanation_fm.estimateSingleAttributeChangePrediction()\n",
    "        if changes:\n",
    "            print(changes)\n",
    "    prediction_difference_attr = (\n",
    "        explanation_fm.getPredictionDifferenceDict()\n",
    "    )  # {attrs_values[i]:explanation_fm.diff_single[i] for i in range(0,len(explanation_fm.diff_single))}\n",
    "    lace_targets[id_i] = evaluateRankingTarget(\n",
    "        prediction_difference_attr, list(pc.feature_names), target\n",
    "    )\n",
    "    lace_targets_abs[id_i] = evaluateRankingTarget(\n",
    "        prediction_difference_attr, list(pc.feature_names), target, absValue=True\n",
    "    )\n",
    "    attributes_lace_rules = explanation_fm.getAttributesRules()\n",
    "    lace_hits, lace_rules_hit = computeHits(\n",
    "        attributes_lace_rules, target, lace_hits, verbose=False\n",
    "    )\n",
    "    lace_rules_hit_all.append(lace_rules_hit)\n",
    "\n",
    "    expl_lace_fi = np.asarray((list(prediction_difference_attr.values())))\n",
    "\n",
    "    feature_cosine[\"LACE\"][id_i] = feature_importance_similarity(\n",
    "            target_vector, expl_lace_fi\n",
    "        )\n",
    "\n",
    "    expl_lace_feature_vector=np.asarray(feature_hit_oh_encoding(prediction_difference_attr.values()))\n",
    "\n",
    "\n",
    "    feature_precision[\"LACE\"][id_i], feature_recall[\"LACE\"][id_i], feature_f1_score[\"LACE\"][id_i], = explanation_precision_recall_f1_score(\n",
    "            np.asarray(true_rule_oh), expl_lace_feature_vector\n",
    "        )\n",
    "\n",
    "    feature_f1_score_delta[\"LACE\"][id_i] = rule_based_similarity(\n",
    "        np.asarray(true_rule_oh),\n",
    "        np.asarray(\n",
    "            feature_hit_oh_encoding_delta(prediction_difference_attr.values())\n",
    "        ),\n",
    "    )\n",
    "\n",
    "\n",
    "    rules_lace_oh = [\n",
    "        oh_encoding_rule(rule, pc.feature_names) for rule in attributes_lace_rules\n",
    "    ]\n",
    "    if rules_lace_oh == []:\n",
    "        rules_lace_oh = [oh_encoding_rule([], pc.feature_names)]\n",
    "\n",
    "    rule_f1_score[\"LACE\"][id_i] = max(\n",
    "        [\n",
    "            rule_based_similarity(np.asarray(r), np.asarray(true_rule_oh))\n",
    "            for r in rules_lace_oh\n",
    "        ]\n",
    "    )\n",
    "    rule_precision[\"LACE\"][id_i] = max(\n",
    "        [\n",
    "            explanation_precision(np.asarray(r), np.asarray(true_rule_oh))\n",
    "            for r in rules_lace_oh\n",
    "        ]\n",
    "    )\n",
    "    rule_recall[\"LACE\"][id_i] = max(\n",
    "        [\n",
    "            explanation_recall(np.asarray(r), np.asarray(true_rule_oh))\n",
    "            for r in rules_lace_oh\n",
    "        ]\n",
    "    )\n",
    "print()"
   ]
  },
  {
   "cell_type": "markdown",
   "metadata": {
    "ExecuteTime": {
     "end_time": "2021-06-29T12:32:18.813607Z",
     "start_time": "2021-06-29T12:32:18.808903Z"
    }
   },
   "source": [
    "## Quality evaluation"
   ]
  },
  {
   "cell_type": "code",
   "execution_count": 18,
   "metadata": {
    "ExecuteTime": {
     "end_time": "2021-06-29T12:46:38.604309Z",
     "start_time": "2021-06-29T12:46:38.592428Z"
    }
   },
   "outputs": [
    {
     "name": "stdout",
     "output_type": "stream",
     "text": [
      "feature_f1_score\n",
      "{'LIME': {17: 0.5, 23: 0.5, 24: 0.5, 40: 0.5, 64: 0.5, 117: 0.5, 118: 0.5, 132: 0.5, 137: 0.5, 148: 0.5}, 'SHAP': {17: 0.5, 23: 0.5, 24: 0.5, 40: 0.5, 64: 0.5, 117: 0.5, 118: 0.5, 132: 0.5, 137: 0.5, 148: 0.5}, 'LACE': {17: 0.5, 23: 0.5, 24: 0.5, 40: 0.5, 64: 0.5714285714285715, 117: 0.5714285714285715, 118: 0.5, 132: 0.5, 137: 0.5714285714285715, 148: 0.5714285714285715}}\n",
      "\n",
      "feature_f1_score_mean\n",
      "{'LIME': 0.5, 'SHAP': 0.5, 'LACE': 0.5285714285714286}\n",
      "\n",
      "feature_f1_score_delta\n",
      "{'LIME': {17: 0.5, 23: 0.5, 24: 0.5, 40: 0.5, 64: 0.5, 117: 0.5, 118: 0.5, 132: 0.5, 137: 0.5, 148: 0.5}, 'SHAP': {17: 0.5714285714285715, 23: 0.5714285714285715, 24: 0.5714285714285715, 40: 0.5714285714285715, 64: 0.6666666666666666, 117: 0.5714285714285715, 118: 0.5, 132: 0.5, 137: 0.5714285714285715, 148: 0.5714285714285715}, 'LACE': {17: 1.0, 23: 0.8, 24: 0.6666666666666666, 40: 0.8, 64: 1.0, 117: 1.0, 118: 0.8, 132: 0.6666666666666666, 137: 1.0, 148: 1.0}}\n",
      "\n",
      "feature_f1_score_delta_mean\n",
      "{'LIME': 0.5, 'SHAP': 0.5666666666666667, 'LACE': 0.8733333333333334}\n",
      "\n",
      "rule_f1_score\n",
      "{'anchor': {17: 0.8, 23: 1.0, 24: 0.6666666666666666, 40: 1.0, 64: 0.8, 117: 1.0, 118: 0.6666666666666666, 132: 0.6666666666666666, 137: 1.0, 148: 1.0}, 'LACE': {17: 1.0, 23: 1.0, 24: 1.0, 40: 1.0, 64: 1.0, 117: 1.0, 118: 1.0, 132: 1.0, 137: 1.0, 148: 1.0}}\n",
      "\n",
      "rule_f1_score_mean\n",
      "{'anchor': 0.86, 'LACE': 1.0}\n"
     ]
    }
   ],
   "source": [
    "print(\"feature_f1_score\")\n",
    "print(feature_f1_score)\n",
    "\n",
    "feature_f1_score_mean = computeAverage(feature_f1_score)\n",
    "print(\"\\nfeature_f1_score_mean\")\n",
    "print(feature_f1_score_mean)\n",
    "\n",
    "\n",
    "print(\"\\nfeature_f1_score_delta\")\n",
    "print(feature_f1_score_delta)\n",
    "\n",
    "feature_f1_score_delta_mean = computeAverage(feature_f1_score_delta)\n",
    "print(\"\\nfeature_f1_score_delta_mean\")\n",
    "print(feature_f1_score_delta_mean)\n",
    "\n",
    "\n",
    "print(\"\\nrule_f1_score\")\n",
    "print(rule_f1_score)\n",
    "\n",
    "rule_f1_score_mean = computeAverage(rule_f1_score)\n",
    "print(\"\\nrule_f1_score_mean\")\n",
    "print(rule_f1_score_mean)"
   ]
  },
  {
   "cell_type": "code",
   "execution_count": 19,
   "metadata": {
    "ExecuteTime": {
     "end_time": "2021-06-29T12:46:38.613679Z",
     "start_time": "2021-06-29T12:46:38.606569Z"
    }
   },
   "outputs": [],
   "source": [
    "if saveResults:\n",
    "    saveJson(feature_f1_score, \"feature_f1_score_results\", outputDirResults)\n",
    "    saveJson(\n",
    "        feature_f1_score_delta,\n",
    "        \"feature_f1_score_delta_results\",\n",
    "        outputDirResults,\n",
    "    )\n",
    "    saveJson(rule_f1_score, \"rule_f1_score\", outputDirResults)\n",
    "\n",
    "    saveJson(\n",
    "        computeAverage(feature_f1_score),\n",
    "        \"feature_f1_score_mean\",\n",
    "        outputDirResults,\n",
    "    )\n",
    "    saveJson(\n",
    "        computeAverage(feature_f1_score_delta),\n",
    "        \"feature_f1_score_delta\",\n",
    "        outputDirResults,\n",
    "    )\n",
    "    saveJson(computeAverage(rule_f1_score), \"rule_f1_score_mean\", outputDirResults)"
   ]
  },
  {
   "cell_type": "markdown",
   "metadata": {},
   "source": [
    "### Rule hits"
   ]
  },
  {
   "cell_type": "code",
   "execution_count": 20,
   "metadata": {
    "ExecuteTime": {
     "end_time": "2021-06-29T12:46:38.629023Z",
     "start_time": "2021-06-29T12:46:38.617116Z"
    },
    "scrolled": false
   },
   "outputs": [
    {
     "name": "stdout",
     "output_type": "stream",
     "text": [
      "LACE\n",
      "{'hit': 10, 'partial_hit_superset': 0, 'partial_hit_subset': 0}\n",
      "Anchor\n",
      "{'hit': 5, 'partial_hit_superset': 5, 'partial_hit_subset': 0}\n"
     ]
    }
   ],
   "source": [
    "print(\"LACE\")\n",
    "print(lace_hits)\n",
    "print(\"Anchor\")\n",
    "print(anchor_hits)"
   ]
  },
  {
   "cell_type": "markdown",
   "metadata": {
    "ExecuteTime": {
     "end_time": "2021-06-29T12:34:00.422713Z",
     "start_time": "2021-06-29T12:34:00.417595Z"
    }
   },
   "source": [
    "### Targets"
   ]
  },
  {
   "cell_type": "code",
   "execution_count": 21,
   "metadata": {
    "ExecuteTime": {
     "end_time": "2021-06-29T12:46:38.639181Z",
     "start_time": "2021-06-29T12:46:38.631194Z"
    }
   },
   "outputs": [
    {
     "name": "stdout",
     "output_type": "stream",
     "text": [
      "LIME\n",
      "{17: 0.5, 23: 1.0, 24: 0.5, 40: 1.0, 64: 1.0, 117: 1.0, 118: 0.5, 132: 0.5, 137: 1.0, 148: 1.0}\n",
      "SHAP\n",
      "{17: 1.0, 23: 1.0, 24: 0.5, 40: 1.0, 64: 1.0, 117: 1.0, 118: 1.0, 132: 0.5, 137: 1.0, 148: 1.0}\n",
      "LACE\n",
      "{17: 1.0, 23: 1.0, 24: 1.0, 40: 1.0, 64: 1.0, 117: 1.0, 118: 1.0, 132: 1.0, 137: 1.0, 148: 1.0}\n",
      "LIME 0.8\n",
      "SHAP 0.9\n",
      "LACE 1.0\n"
     ]
    }
   ],
   "source": [
    "print(\"LIME\")\n",
    "print(lime_targets)\n",
    "print(\"SHAP\")\n",
    "print(shap_targets)\n",
    "print(\"LACE\")\n",
    "print(lace_targets)\n",
    "\n",
    "print(\"LIME\", np.mean(list(lime_targets.values())))\n",
    "print(\"SHAP\", np.mean(list(shap_targets.values())))\n",
    "print(\"LACE\", np.mean(list(lace_targets.values())))"
   ]
  },
  {
   "cell_type": "code",
   "execution_count": 22,
   "metadata": {
    "ExecuteTime": {
     "end_time": "2021-06-29T12:46:38.652613Z",
     "start_time": "2021-06-29T12:46:38.646316Z"
    }
   },
   "outputs": [],
   "source": [
    "if saveResults:\n",
    "    saveJson(lace_hits, \"lace_hits\", outputDirResults)\n",
    "    saveJson(anchor_hits, \"anchor_hits\", outputDirResults)\n",
    "    saveJson(lime_targets, \"lime_targets\", outputDirResults)\n",
    "    saveJson(shap_targets, \"shap_targets\", outputDirResults)\n",
    "    saveJson(lace_hits, \"lace_targets\", outputDirResults)\n",
    "\n",
    "    mean_hit_targets = {\n",
    "        \"LIME\": np.mean(list(lime_targets.values())),\n",
    "        \"SHAP\": np.mean(list(shap_targets.values())),\n",
    "        \"LACE\": np.mean(list(lace_targets.values())),\n",
    "    }\n",
    "\n",
    "    saveJson(mean_hit_targets, \"mean_hit_targets\", outputDirResults)"
   ]
  },
  {
   "cell_type": "markdown",
   "metadata": {},
   "source": [
    "Target abs"
   ]
  },
  {
   "cell_type": "code",
   "execution_count": 23,
   "metadata": {
    "ExecuteTime": {
     "end_time": "2021-06-29T12:46:38.668317Z",
     "start_time": "2021-06-29T12:46:38.659455Z"
    }
   },
   "outputs": [
    {
     "name": "stdout",
     "output_type": "stream",
     "text": [
      "LIME abs\n",
      "{17: 0.5, 23: 0.5, 24: 0.5, 40: 1.0, 64: 0.5, 117: 0.5, 118: 0.5, 132: 0.5, 137: 0.5, 148: 0.5}\n",
      "SHAP abs\n",
      "{17: 1.0, 23: 1.0, 24: 0.5, 40: 1.0, 64: 1.0, 117: 1.0, 118: 1.0, 132: 0.5, 137: 1.0, 148: 1.0}\n",
      "LACE abs\n",
      "{17: 1.0, 23: 1.0, 24: 1.0, 40: 1.0, 64: 1.0, 117: 1.0, 118: 1.0, 132: 1.0, 137: 1.0, 148: 1.0}\n",
      "LIME abs 0.55\n",
      "SHAP abs 0.9\n",
      "LACE abs 1.0\n"
     ]
    }
   ],
   "source": [
    "print(\"LIME abs\")\n",
    "print(lime_targets_abs)\n",
    "print(\"SHAP abs\")\n",
    "print(shap_targets_abs)\n",
    "print(\"LACE abs\")\n",
    "print(lace_targets_abs)\n",
    "\n",
    "print(\"LIME abs\", np.mean(list(lime_targets_abs.values())))\n",
    "print(\"SHAP abs\", np.mean(list(shap_targets_abs.values())))\n",
    "print(\"LACE abs\", np.mean(list(lace_targets_abs.values())))"
   ]
  },
  {
   "cell_type": "code",
   "execution_count": 24,
   "metadata": {
    "ExecuteTime": {
     "end_time": "2021-06-29T12:46:38.676468Z",
     "start_time": "2021-06-29T12:46:38.671641Z"
    }
   },
   "outputs": [],
   "source": [
    "if saveResults:\n",
    "    saveJson(lime_targets_abs, \"lime_targets_abs\", outputDirResults)\n",
    "    saveJson(shap_targets_abs, \"shap_targets_abs\", outputDirResults)\n",
    "    saveJson(lace_targets_abs, \"lace_targets_abs\", outputDirResults)\n",
    "\n",
    "    mean_hit_targets_abs = {\n",
    "        \"LIME\": np.mean(list(lime_targets_abs.values())),\n",
    "        \"SHAP\": np.mean(list(shap_targets_abs.values())),\n",
    "        \"LACE\": np.mean(list(lace_targets_abs.values())),\n",
    "    }\n",
    "\n",
    "    saveJson(mean_hit_targets_abs, \"mean_hit_targets_abs\", outputDirResults)"
   ]
  },
  {
   "cell_type": "markdown",
   "metadata": {},
   "source": [
    "### Plot"
   ]
  },
  {
   "cell_type": "code",
   "execution_count": 25,
   "metadata": {
    "ExecuteTime": {
     "end_time": "2021-06-29T12:46:39.030863Z",
     "start_time": "2021-06-29T12:46:38.679193Z"
    }
   },
   "outputs": [
    {
     "name": "stdout",
     "output_type": "stream",
     "text": [
      "LACE\n",
      "{'hit': 10, 'partial_hit_superset': 0, 'partial_hit_subset': 0}\n",
      "Anchor\n",
      "{'hit': 5, 'partial_hit_superset': 5, 'partial_hit_subset': 0}\n"
     ]
    },
    {
     "data": {
      "image/png": "[encoded data removed]",
      "text/plain": [
       "<Figure size 432x288 with 1 Axes>"
      ]
     },
     "metadata": {
      "needs_background": "light"
     },
     "output_type": "display_data"
    },
    {
     "data": {
      "text/plain": [
       "[(frozenset({'age_cat', 'c_charge_degree'}), 'hit'),\n",
       " (frozenset({'age_cat', 'c_charge_degree'}), 'hit'),\n",
       " (frozenset({'age_cat', 'c_charge_degree'}), 'hit'),\n",
       " (frozenset({'age_cat', 'c_charge_degree'}), 'hit'),\n",
       " (frozenset({'age_cat', 'c_charge_degree'}), 'hit'),\n",
       " (frozenset({'age_cat', 'c_charge_degree'}), 'hit'),\n",
       " (frozenset({'age_cat', 'c_charge_degree'}), 'hit'),\n",
       " (frozenset({'age_cat', 'c_charge_degree'}), 'hit'),\n",
       " (frozenset({'age_cat', 'c_charge_degree'}), 'hit'),\n",
       " (frozenset({'age_cat', 'c_charge_degree'}), 'hit')]"
      ]
     },
     "execution_count": 25,
     "metadata": {},
     "output_type": "execute_result"
    }
   ],
   "source": [
    "print(\"LACE\")\n",
    "print(lace_hits)\n",
    "print(\"Anchor\")\n",
    "print(anchor_hits)\n",
    "hits_dict_summary = {}\n",
    "hits_dict_summary[\"LACE\"] = lace_hits\n",
    "hits_dict_summary[\"anchor\"] = anchor_hits\n",
    "\n",
    "from utils_RW import showHits\n",
    "\n",
    "\n",
    "showHits(\n",
    "    hits_dict_summary,\n",
    "    upperLabel=n_explanations,\n",
    "    percentage=True,\n",
    "    saveFig=saveResults,)\n",
    "lace_rules_hit_all"
   ]
  }
 ],
 "metadata": {
  "hide_input": false,
  "kernelspec": {
   "display_name": "Python 3",
   "language": "python",
   "name": "python3"
  },
  "language_info": {
   "codemirror_mode": {
    "name": "ipython",
    "version": 3
   },
   "file_extension": ".py",
   "mimetype": "text/x-python",
   "name": "python",
   "nbconvert_exporter": "python",
   "pygments_lexer": "ipython3",
   "version": "3.8.5"
  },
  "toc": {
   "base_numbering": 1,
   "nav_menu": {},
   "number_sections": true,
   "sideBar": true,
   "skip_h1_title": false,
   "title_cell": "Table of Contents",
   "title_sidebar": "Contents",
   "toc_cell": false,
   "toc_position": {},
   "toc_section_display": true,
   "toc_window_display": false
  },
  "varInspector": {
   "cols": {
    "lenName": 16,
    "lenType": 16,
    "lenVar": 40
   },
   "kernels_config": {
    "python": {
     "delete_cmd_postfix": "",
     "delete_cmd_prefix": "del ",
     "library": "var_list.py",
     "varRefreshCmd": "print(var_dic_list())"
    },
    "r": {
     "delete_cmd_postfix": ") ",
     "delete_cmd_prefix": "rm(",
     "library": "var_list.r",
     "varRefreshCmd": "cat(var_dic_list()) "
    }
   },
   "types_to_exclude": [
    "module",
    "function",
    "builtin_function_or_method",
    "instance",
    "_Feature"
   ],
   "window_display": false
  }
 },
 "nbformat": 4,
 "nbformat_minor": 5
}
