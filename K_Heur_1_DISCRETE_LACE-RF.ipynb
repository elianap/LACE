{
 "cells": [
  {
   "cell_type": "code",
   "execution_count": 26,
   "metadata": {
    "ExecuteTime": {
     "end_time": "2021-04-26T12:31:03.161622Z",
     "start_time": "2021-04-26T12:31:03.156445Z"
    }
   },
   "outputs": [],
   "source": [
    "import numpy as np\n",
    "import pandas as pd\n",
    "pd.set_option('display.max_colwidth', None)"
   ]
  },
  {
   "cell_type": "code",
   "execution_count": 27,
   "metadata": {
    "ExecuteTime": {
     "end_time": "2021-04-26T12:31:03.210929Z",
     "start_time": "2021-04-26T12:31:03.164218Z"
    }
   },
   "outputs": [],
   "source": [
    "toCompute=True"
   ]
  },
  {
   "cell_type": "code",
   "execution_count": 28,
   "metadata": {
    "ExecuteTime": {
     "end_time": "2021-04-26T12:31:03.268566Z",
     "start_time": "2021-04-26T12:31:03.215332Z"
    }
   },
   "outputs": [],
   "source": [
    "classifier_name=\"RF\""
   ]
  },
  {
   "cell_type": "markdown",
   "metadata": {},
   "source": [
    "# Import dataset"
   ]
  },
  {
   "cell_type": "code",
   "execution_count": 29,
   "metadata": {
    "ExecuteTime": {
     "end_time": "2021-04-26T12:31:03.352055Z",
     "start_time": "2021-04-26T12:31:03.272762Z"
    }
   },
   "outputs": [],
   "source": [
    "dataset_name, dataset_filename=\"groups_10_discrete\", \"groups_10_dataset_discretized\"\n",
    "results_output=\"results_k_heuristic\""
   ]
  },
  {
   "cell_type": "code",
   "execution_count": 30,
   "metadata": {
    "ExecuteTime": {
     "end_time": "2021-04-26T12:31:03.410452Z",
     "start_time": "2021-04-26T12:31:03.355987Z"
    }
   },
   "outputs": [],
   "source": [
    "outputDirResults=f\"./{results_output}/{dataset_name}/{classifier_name}/\"\n",
    "saveResults=False\n",
    "\n",
    "if saveResults:\n",
    "    from src.utils import saveJson\n",
    "    from pathlib import Path\n",
    "    Path(outputDirResults).mkdir(parents=True, exist_ok=True)"
   ]
  },
  {
   "cell_type": "code",
   "execution_count": 31,
   "metadata": {
    "ExecuteTime": {
     "end_time": "2021-04-26T12:31:03.534350Z",
     "start_time": "2021-04-26T12:31:03.413960Z"
    }
   },
   "outputs": [
    {
     "data": {
      "text/html": [
       "<div>\n",
       "<style scoped>\n",
       "    .dataframe tbody tr th:only-of-type {\n",
       "        vertical-align: middle;\n",
       "    }\n",
       "\n",
       "    .dataframe tbody tr th {\n",
       "        vertical-align: top;\n",
       "    }\n",
       "\n",
       "    .dataframe thead th {\n",
       "        text-align: right;\n",
       "    }\n",
       "</style>\n",
       "<table border=\"1\" class=\"dataframe\">\n",
       "  <thead>\n",
       "    <tr style=\"text-align: right;\">\n",
       "      <th></th>\n",
       "      <th>X</th>\n",
       "      <th>Y</th>\n",
       "      <th>R1</th>\n",
       "      <th>R2</th>\n",
       "      <th>R3</th>\n",
       "      <th>R4</th>\n",
       "      <th>R5</th>\n",
       "      <th>R6</th>\n",
       "      <th>R7</th>\n",
       "      <th>R8</th>\n",
       "      <th>class</th>\n",
       "    </tr>\n",
       "  </thead>\n",
       "  <tbody>\n",
       "    <tr>\n",
       "      <th>0</th>\n",
       "      <td>(0.333-0.666)</td>\n",
       "      <td>(0.333-0.666)</td>\n",
       "      <td>≥0.666</td>\n",
       "      <td>(0.333-0.666)</td>\n",
       "      <td>(0.333-0.666)</td>\n",
       "      <td>≥0.666</td>\n",
       "      <td>(0.333-0.666)</td>\n",
       "      <td>≤0.333</td>\n",
       "      <td>(0.333-0.666)</td>\n",
       "      <td>≤0.333</td>\n",
       "      <td>2</td>\n",
       "    </tr>\n",
       "    <tr>\n",
       "      <th>1</th>\n",
       "      <td>(0.333-0.666)</td>\n",
       "      <td>≥0.666</td>\n",
       "      <td>≥0.666</td>\n",
       "      <td>(0.333-0.666)</td>\n",
       "      <td>(0.333-0.666)</td>\n",
       "      <td>(0.333-0.666)</td>\n",
       "      <td>(0.333-0.666)</td>\n",
       "      <td>≥0.666</td>\n",
       "      <td>≤0.333</td>\n",
       "      <td>≥0.666</td>\n",
       "      <td>0</td>\n",
       "    </tr>\n",
       "    <tr>\n",
       "      <th>2</th>\n",
       "      <td>(0.333-0.666)</td>\n",
       "      <td>(0.333-0.666)</td>\n",
       "      <td>≤0.333</td>\n",
       "      <td>≥0.666</td>\n",
       "      <td>(0.333-0.666)</td>\n",
       "      <td>≤0.333</td>\n",
       "      <td>≥0.666</td>\n",
       "      <td>≥0.666</td>\n",
       "      <td>≤0.333</td>\n",
       "      <td>≤0.333</td>\n",
       "      <td>2</td>\n",
       "    </tr>\n",
       "    <tr>\n",
       "      <th>3</th>\n",
       "      <td>(0.333-0.666)</td>\n",
       "      <td>≥0.666</td>\n",
       "      <td>≤0.333</td>\n",
       "      <td>≥0.666</td>\n",
       "      <td>≥0.666</td>\n",
       "      <td>(0.333-0.666)</td>\n",
       "      <td>≥0.666</td>\n",
       "      <td>(0.333-0.666)</td>\n",
       "      <td>≤0.333</td>\n",
       "      <td>(0.333-0.666)</td>\n",
       "      <td>0</td>\n",
       "    </tr>\n",
       "    <tr>\n",
       "      <th>4</th>\n",
       "      <td>≤0.333</td>\n",
       "      <td>(0.333-0.666)</td>\n",
       "      <td>≤0.333</td>\n",
       "      <td>(0.333-0.666)</td>\n",
       "      <td>≥0.666</td>\n",
       "      <td>(0.333-0.666)</td>\n",
       "      <td>(0.333-0.666)</td>\n",
       "      <td>(0.333-0.666)</td>\n",
       "      <td>(0.333-0.666)</td>\n",
       "      <td>(0.333-0.666)</td>\n",
       "      <td>1</td>\n",
       "    </tr>\n",
       "  </tbody>\n",
       "</table>\n",
       "</div>"
      ],
      "text/plain": [
       "               X              Y      R1             R2             R3  \\\n",
       "0  (0.333-0.666)  (0.333-0.666)  ≥0.666  (0.333-0.666)  (0.333-0.666)   \n",
       "1  (0.333-0.666)         ≥0.666  ≥0.666  (0.333-0.666)  (0.333-0.666)   \n",
       "2  (0.333-0.666)  (0.333-0.666)  ≤0.333         ≥0.666  (0.333-0.666)   \n",
       "3  (0.333-0.666)         ≥0.666  ≤0.333         ≥0.666         ≥0.666   \n",
       "4         ≤0.333  (0.333-0.666)  ≤0.333  (0.333-0.666)         ≥0.666   \n",
       "\n",
       "              R4             R5             R6             R7             R8  \\\n",
       "0         ≥0.666  (0.333-0.666)         ≤0.333  (0.333-0.666)         ≤0.333   \n",
       "1  (0.333-0.666)  (0.333-0.666)         ≥0.666         ≤0.333         ≥0.666   \n",
       "2         ≤0.333         ≥0.666         ≥0.666         ≤0.333         ≤0.333   \n",
       "3  (0.333-0.666)         ≥0.666  (0.333-0.666)         ≤0.333  (0.333-0.666)   \n",
       "4  (0.333-0.666)  (0.333-0.666)  (0.333-0.666)  (0.333-0.666)  (0.333-0.666)   \n",
       "\n",
       "   class  \n",
       "0      2  \n",
       "1      0  \n",
       "2      2  \n",
       "3      0  \n",
       "4      1  "
      ]
     },
     "execution_count": 31,
     "metadata": {},
     "output_type": "execute_result"
    }
   ],
   "source": [
    "import pandas as pd\n",
    "df=pd.read_csv(f\"./datasets/{dataset_filename}.csv\")\n",
    "df.head()"
   ]
  },
  {
   "cell_type": "code",
   "execution_count": 32,
   "metadata": {
    "ExecuteTime": {
     "end_time": "2021-04-26T12:31:03.542846Z",
     "start_time": "2021-04-26T12:31:03.535837Z"
    }
   },
   "outputs": [],
   "source": [
    "from ProcessedDataset import ProcessedDataset"
   ]
  },
  {
   "cell_type": "code",
   "execution_count": 33,
   "metadata": {
    "ExecuteTime": {
     "end_time": "2021-04-26T12:31:04.275920Z",
     "start_time": "2021-04-26T12:31:03.545484Z"
    }
   },
   "outputs": [],
   "source": [
    "all_data=False\n",
    "pc = ProcessedDataset(df)\n",
    "\n",
    "if classifier_name==\"RF\":\n",
    "\n",
    "    from sklearn.ensemble import RandomForestClassifier\n",
    "    clf_init = RandomForestClassifier(random_state=42)\n",
    "    \n",
    "elif classifier_name==\"NN\":\n",
    "    \n",
    "    from sklearn.neural_network import MLPClassifier\n",
    "    clf_init = MLPClassifier(random_state=True)\n",
    "    \n",
    "else:\n",
    "    raise ValueError()\n",
    "pc.processDataset(clf_init, all_data=all_data, dataset_name=dataset_name,  round_v=3, bins=3)"
   ]
  },
  {
   "cell_type": "code",
   "execution_count": 34,
   "metadata": {
    "ExecuteTime": {
     "end_time": "2021-04-26T12:31:04.351683Z",
     "start_time": "2021-04-26T12:31:04.277864Z"
    }
   },
   "outputs": [],
   "source": [
    "predicted=np.argmax(pc.predict_fn(pc.test.values), axis=1)\n",
    "#FP=[i for i,p in enumerate(predicted) if p==1 and labels_test[i]==0]\n",
    "#FN=[i for i,p in enumerate(predicted) if p==0 and labels_test[i]==1]\n",
    "mispredicted=[i for i,p in enumerate(predicted) if p!=pc.labels_test[i]]\n",
    "correct_prediction=[i for i,p in enumerate(predicted) if p==pc.labels_test[i]]"
   ]
  },
  {
   "cell_type": "code",
   "execution_count": 35,
   "metadata": {
    "ExecuteTime": {
     "end_time": "2021-04-26T12:31:04.481091Z",
     "start_time": "2021-04-26T12:31:04.354901Z"
    }
   },
   "outputs": [
    {
     "name": "stdout",
     "output_type": "stream",
     "text": [
      "Accuracy:  1.0\n"
     ]
    }
   ],
   "source": [
    "from sklearn.metrics import accuracy_score\n",
    "print(\"Accuracy: \", round(accuracy_score(pc.labels_test, predicted),4))"
   ]
  },
  {
   "cell_type": "markdown",
   "metadata": {},
   "source": [
    "# Explainers"
   ]
  },
  {
   "cell_type": "markdown",
   "metadata": {},
   "source": [
    "## LACE"
   ]
  },
  {
   "cell_type": "code",
   "execution_count": 36,
   "metadata": {
    "ExecuteTime": {
     "end_time": "2021-04-26T12:31:04.538605Z",
     "start_time": "2021-04-26T12:31:04.484769Z"
    }
   },
   "outputs": [],
   "source": [
    "from src.LACE_explainer import LACE_explainer\n",
    "\n",
    "lace_explainer = LACE_explainer(pc.d_train,pc.predict_fn, dataset_name=\"COMPAS\")"
   ]
  },
  {
   "cell_type": "markdown",
   "metadata": {
    "ExecuteTime": {
     "end_time": "2021-02-26T15:08:37.081408Z",
     "start_time": "2021-02-26T15:08:37.078522Z"
    }
   },
   "source": [
    "# Compute explanation"
   ]
  },
  {
   "cell_type": "code",
   "execution_count": 37,
   "metadata": {
    "ExecuteTime": {
     "end_time": "2021-04-26T12:31:04.592058Z",
     "start_time": "2021-04-26T12:31:04.540735Z"
    }
   },
   "outputs": [],
   "source": [
    "outdir_lace=f\"./results/{dataset_name}/lace/heuristic\"\n",
    "\n",
    "saveFig=False\n",
    "\n",
    "if saveFig:\n",
    "    from pathlib import Path\n",
    "    Path(outdir_lace).mkdir(parents=True, exist_ok=True)"
   ]
  },
  {
   "cell_type": "code",
   "execution_count": 38,
   "metadata": {
    "ExecuteTime": {
     "end_time": "2021-04-26T12:31:04.627560Z",
     "start_time": "2021-04-26T12:31:04.595245Z"
    }
   },
   "outputs": [],
   "source": [
    "def saveFigure(fig_lace, outdir, id_i, explainer_name=\"\", w=4,h=3):\n",
    "    fig_lace.set_size_inches(w,h)\n",
    "    fig_lace.savefig(f\"{outdir}/{explainer_name}_{id_i}.pdf\", bbox_inches=\"tight\")"
   ]
  },
  {
   "cell_type": "code",
   "execution_count": 39,
   "metadata": {
    "ExecuteTime": {
     "end_time": "2021-04-26T12:31:04.662604Z",
     "start_time": "2021-04-26T12:31:04.631106Z"
    }
   },
   "outputs": [],
   "source": [
    "def numberIterations(errors):\n",
    "    return len(errors)\n",
    "\n",
    "def getFirstLastApproxError(errors):\n",
    "    import operator\n",
    "    error_last_iter=max(errors.items(), key=operator.itemgetter(0))[1]\n",
    "    error_first_iter=min(errors.items(), key=operator.itemgetter(0))[1]\n",
    "    return error_first_iter, error_last_iter"
   ]
  },
  {
   "cell_type": "code",
   "execution_count": 40,
   "metadata": {
    "ExecuteTime": {
     "end_time": "2021-04-26T12:31:04.701826Z",
     "start_time": "2021-04-26T12:31:04.665792Z"
    }
   },
   "outputs": [],
   "source": [
    "iterations={}\n",
    "approx_errors={}"
   ]
  },
  {
   "cell_type": "code",
   "execution_count": 41,
   "metadata": {
    "ExecuteTime": {
     "end_time": "2021-04-26T12:31:28.381564Z",
     "start_time": "2021-04-26T12:31:04.704996Z"
    },
    "scrolled": true
   },
   "outputs": [
    {
     "name": "stdout",
     "output_type": "stream",
     "text": [
      "\n",
      "\n",
      "compute_lace_step k=89\n",
      "Unique columns with k=89: [], 0.0\n",
      "89\n",
      "lev_1 - (1 rules)\n"
     ]
    },
    {
     "data": {
      "text/html": [
       "<div>\n",
       "<style scoped>\n",
       "    .dataframe tbody tr th:only-of-type {\n",
       "        vertical-align: middle;\n",
       "    }\n",
       "\n",
       "    .dataframe tbody tr th {\n",
       "        vertical-align: top;\n",
       "    }\n",
       "\n",
       "    .dataframe thead th {\n",
       "        text-align: right;\n",
       "    }\n",
       "</style>\n",
       "<table border=\"1\" class=\"dataframe\">\n",
       "  <thead>\n",
       "    <tr style=\"text-align: right;\">\n",
       "      <th></th>\n",
       "      <th>ids</th>\n",
       "      <th>body</th>\n",
       "      <th>class</th>\n",
       "      <th>sup</th>\n",
       "      <th>conf</th>\n",
       "      <th>len</th>\n",
       "    </tr>\n",
       "  </thead>\n",
       "  <tbody>\n",
       "    <tr>\n",
       "      <th>0</th>\n",
       "      <td>[1, 2]</td>\n",
       "      <td>(X=(0.333-0.666), Y=≥0.666)</td>\n",
       "      <td>0</td>\n",
       "      <td>48</td>\n",
       "      <td>100.0</td>\n",
       "      <td>2</td>\n",
       "    </tr>\n",
       "  </tbody>\n",
       "</table>\n",
       "</div>"
      ],
      "text/plain": [
       "      ids                         body class  sup   conf  len\n",
       "0  [1, 2]  (X=(0.333-0.666), Y=≥0.666)     0   48  100.0    2"
      ]
     },
     "metadata": {},
     "output_type": "display_data"
    },
    {
     "name": "stdout",
     "output_type": "stream",
     "text": [
      "class_prob - class_frequency = PI 0.79 0.328875 0.46112500000000006\n",
      "PI_approx 0.5038650000000156\n",
      "{'1,2': 0.5038650000000156}\n",
      "Error 0.04274000000001549\n",
      "\n",
      "\n",
      "compute_lace_step k=178\n",
      "Unique columns with k=178: [], 0.0\n",
      "178\n",
      "lev_1 - (1 rules)\n"
     ]
    },
    {
     "data": {
      "text/html": [
       "<div>\n",
       "<style scoped>\n",
       "    .dataframe tbody tr th:only-of-type {\n",
       "        vertical-align: middle;\n",
       "    }\n",
       "\n",
       "    .dataframe tbody tr th {\n",
       "        vertical-align: top;\n",
       "    }\n",
       "\n",
       "    .dataframe thead th {\n",
       "        text-align: right;\n",
       "    }\n",
       "</style>\n",
       "<table border=\"1\" class=\"dataframe\">\n",
       "  <thead>\n",
       "    <tr style=\"text-align: right;\">\n",
       "      <th></th>\n",
       "      <th>ids</th>\n",
       "      <th>body</th>\n",
       "      <th>class</th>\n",
       "      <th>sup</th>\n",
       "      <th>conf</th>\n",
       "      <th>len</th>\n",
       "    </tr>\n",
       "  </thead>\n",
       "  <tbody>\n",
       "    <tr>\n",
       "      <th>0</th>\n",
       "      <td>[1, 2]</td>\n",
       "      <td>(X=(0.333-0.666), Y=≥0.666)</td>\n",
       "      <td>0</td>\n",
       "      <td>91</td>\n",
       "      <td>100.0</td>\n",
       "      <td>2</td>\n",
       "    </tr>\n",
       "  </tbody>\n",
       "</table>\n",
       "</div>"
      ],
      "text/plain": [
       "      ids                         body class  sup   conf  len\n",
       "0  [1, 2]  (X=(0.333-0.666), Y=≥0.666)     0   91  100.0    2"
      ]
     },
     "metadata": {},
     "output_type": "display_data"
    },
    {
     "name": "stdout",
     "output_type": "stream",
     "text": [
      "class_prob - class_frequency = PI 0.79 0.328875 0.46112500000000006\n",
      "PI_approx 0.5038650000000156\n",
      "{'1,2': 0.5038650000000156}\n",
      "Error 0.04274000000001549\n",
      "\n",
      "\n",
      "compute_lace_step k=267\n",
      "Unique columns with k=267: [], 0.0\n",
      "267\n",
      "lev_1 - (1 rules)\n"
     ]
    },
    {
     "data": {
      "text/html": [
       "<div>\n",
       "<style scoped>\n",
       "    .dataframe tbody tr th:only-of-type {\n",
       "        vertical-align: middle;\n",
       "    }\n",
       "\n",
       "    .dataframe tbody tr th {\n",
       "        vertical-align: top;\n",
       "    }\n",
       "\n",
       "    .dataframe thead th {\n",
       "        text-align: right;\n",
       "    }\n",
       "</style>\n",
       "<table border=\"1\" class=\"dataframe\">\n",
       "  <thead>\n",
       "    <tr style=\"text-align: right;\">\n",
       "      <th></th>\n",
       "      <th>ids</th>\n",
       "      <th>body</th>\n",
       "      <th>class</th>\n",
       "      <th>sup</th>\n",
       "      <th>conf</th>\n",
       "      <th>len</th>\n",
       "    </tr>\n",
       "  </thead>\n",
       "  <tbody>\n",
       "    <tr>\n",
       "      <th>0</th>\n",
       "      <td>[1, 2]</td>\n",
       "      <td>(X=(0.333-0.666), Y=≥0.666)</td>\n",
       "      <td>0</td>\n",
       "      <td>117</td>\n",
       "      <td>100.0</td>\n",
       "      <td>2</td>\n",
       "    </tr>\n",
       "  </tbody>\n",
       "</table>\n",
       "</div>"
      ],
      "text/plain": [
       "      ids                         body class  sup   conf  len\n",
       "0  [1, 2]  (X=(0.333-0.666), Y=≥0.666)     0  117  100.0    2"
      ]
     },
     "metadata": {},
     "output_type": "display_data"
    },
    {
     "name": "stdout",
     "output_type": "stream",
     "text": [
      "class_prob - class_frequency = PI 0.79 0.328875 0.46112500000000006\n",
      "PI_approx 0.5038650000000156\n",
      "{'1,2': 0.5038650000000156}\n",
      "Error 0.04274000000001549\n",
      "\n",
      "\n",
      "compute_lace_step k=356\n",
      "Unique columns with k=356: [], 0.0\n",
      "356\n",
      "lev_1 - (1 rules)\n"
     ]
    },
    {
     "data": {
      "text/html": [
       "<div>\n",
       "<style scoped>\n",
       "    .dataframe tbody tr th:only-of-type {\n",
       "        vertical-align: middle;\n",
       "    }\n",
       "\n",
       "    .dataframe tbody tr th {\n",
       "        vertical-align: top;\n",
       "    }\n",
       "\n",
       "    .dataframe thead th {\n",
       "        text-align: right;\n",
       "    }\n",
       "</style>\n",
       "<table border=\"1\" class=\"dataframe\">\n",
       "  <thead>\n",
       "    <tr style=\"text-align: right;\">\n",
       "      <th></th>\n",
       "      <th>ids</th>\n",
       "      <th>body</th>\n",
       "      <th>class</th>\n",
       "      <th>sup</th>\n",
       "      <th>conf</th>\n",
       "      <th>len</th>\n",
       "    </tr>\n",
       "  </thead>\n",
       "  <tbody>\n",
       "    <tr>\n",
       "      <th>0</th>\n",
       "      <td>[1, 2]</td>\n",
       "      <td>(X=(0.333-0.666), Y=≥0.666)</td>\n",
       "      <td>0</td>\n",
       "      <td>146</td>\n",
       "      <td>100.0</td>\n",
       "      <td>2</td>\n",
       "    </tr>\n",
       "  </tbody>\n",
       "</table>\n",
       "</div>"
      ],
      "text/plain": [
       "      ids                         body class  sup   conf  len\n",
       "0  [1, 2]  (X=(0.333-0.666), Y=≥0.666)     0  146  100.0    2"
      ]
     },
     "metadata": {},
     "output_type": "display_data"
    },
    {
     "name": "stdout",
     "output_type": "stream",
     "text": [
      "class_prob - class_frequency = PI 0.79 0.328875 0.46112500000000006\n",
      "PI_approx 0.5038650000000156\n",
      "{'1,2': 0.5038650000000156}\n",
      "Error 0.04274000000001549\n",
      "\n",
      "\n",
      "compute_lace_step k=445\n",
      "Unique columns with k=445: [], 0.0\n",
      "445\n",
      "lev_1 - (1 rules)\n"
     ]
    },
    {
     "data": {
      "text/html": [
       "<div>\n",
       "<style scoped>\n",
       "    .dataframe tbody tr th:only-of-type {\n",
       "        vertical-align: middle;\n",
       "    }\n",
       "\n",
       "    .dataframe tbody tr th {\n",
       "        vertical-align: top;\n",
       "    }\n",
       "\n",
       "    .dataframe thead th {\n",
       "        text-align: right;\n",
       "    }\n",
       "</style>\n",
       "<table border=\"1\" class=\"dataframe\">\n",
       "  <thead>\n",
       "    <tr style=\"text-align: right;\">\n",
       "      <th></th>\n",
       "      <th>ids</th>\n",
       "      <th>body</th>\n",
       "      <th>class</th>\n",
       "      <th>sup</th>\n",
       "      <th>conf</th>\n",
       "      <th>len</th>\n",
       "    </tr>\n",
       "  </thead>\n",
       "  <tbody>\n",
       "    <tr>\n",
       "      <th>0</th>\n",
       "      <td>[1, 2]</td>\n",
       "      <td>(X=(0.333-0.666), Y=≥0.666)</td>\n",
       "      <td>0</td>\n",
       "      <td>168</td>\n",
       "      <td>100.0</td>\n",
       "      <td>2</td>\n",
       "    </tr>\n",
       "  </tbody>\n",
       "</table>\n",
       "</div>"
      ],
      "text/plain": [
       "      ids                         body class  sup   conf  len\n",
       "0  [1, 2]  (X=(0.333-0.666), Y=≥0.666)     0  168  100.0    2"
      ]
     },
     "metadata": {},
     "output_type": "display_data"
    },
    {
     "name": "stdout",
     "output_type": "stream",
     "text": [
      "class_prob - class_frequency = PI 0.79 0.328875 0.46112500000000006\n",
      "PI_approx 0.5038650000000156\n",
      "{'1,2': 0.5038650000000156}\n",
      "Error 0.04274000000001549\n",
      "\n",
      "\n",
      "compute_lace_step k=534\n",
      "Unique columns with k=534: [], 0.0\n",
      "534\n",
      "lev_1 - (1 rules)\n"
     ]
    },
    {
     "data": {
      "text/html": [
       "<div>\n",
       "<style scoped>\n",
       "    .dataframe tbody tr th:only-of-type {\n",
       "        vertical-align: middle;\n",
       "    }\n",
       "\n",
       "    .dataframe tbody tr th {\n",
       "        vertical-align: top;\n",
       "    }\n",
       "\n",
       "    .dataframe thead th {\n",
       "        text-align: right;\n",
       "    }\n",
       "</style>\n",
       "<table border=\"1\" class=\"dataframe\">\n",
       "  <thead>\n",
       "    <tr style=\"text-align: right;\">\n",
       "      <th></th>\n",
       "      <th>ids</th>\n",
       "      <th>body</th>\n",
       "      <th>class</th>\n",
       "      <th>sup</th>\n",
       "      <th>conf</th>\n",
       "      <th>len</th>\n",
       "    </tr>\n",
       "  </thead>\n",
       "  <tbody>\n",
       "    <tr>\n",
       "      <th>0</th>\n",
       "      <td>[1, 2]</td>\n",
       "      <td>(X=(0.333-0.666), Y=≥0.666)</td>\n",
       "      <td>0</td>\n",
       "      <td>195</td>\n",
       "      <td>100.0</td>\n",
       "      <td>2</td>\n",
       "    </tr>\n",
       "  </tbody>\n",
       "</table>\n",
       "</div>"
      ],
      "text/plain": [
       "      ids                         body class  sup   conf  len\n",
       "0  [1, 2]  (X=(0.333-0.666), Y=≥0.666)     0  195  100.0    2"
      ]
     },
     "metadata": {},
     "output_type": "display_data"
    },
    {
     "name": "stdout",
     "output_type": "stream",
     "text": [
      "class_prob - class_frequency = PI 0.79 0.328875 0.46112500000000006\n",
      "PI_approx 0.5038650000000156\n",
      "{'1,2': 0.5038650000000156}\n",
      "Error 0.04274000000001549\n",
      "\n",
      "\n",
      "compute_lace_step k=623\n",
      "Unique columns with k=623: [], 0.0\n",
      "623\n",
      "lev_1 - (1 rules)\n"
     ]
    },
    {
     "data": {
      "text/html": [
       "<div>\n",
       "<style scoped>\n",
       "    .dataframe tbody tr th:only-of-type {\n",
       "        vertical-align: middle;\n",
       "    }\n",
       "\n",
       "    .dataframe tbody tr th {\n",
       "        vertical-align: top;\n",
       "    }\n",
       "\n",
       "    .dataframe thead th {\n",
       "        text-align: right;\n",
       "    }\n",
       "</style>\n",
       "<table border=\"1\" class=\"dataframe\">\n",
       "  <thead>\n",
       "    <tr style=\"text-align: right;\">\n",
       "      <th></th>\n",
       "      <th>ids</th>\n",
       "      <th>body</th>\n",
       "      <th>class</th>\n",
       "      <th>sup</th>\n",
       "      <th>conf</th>\n",
       "      <th>len</th>\n",
       "    </tr>\n",
       "  </thead>\n",
       "  <tbody>\n",
       "    <tr>\n",
       "      <th>0</th>\n",
       "      <td>[1, 2]</td>\n",
       "      <td>(X=(0.333-0.666), Y=≥0.666)</td>\n",
       "      <td>0</td>\n",
       "      <td>223</td>\n",
       "      <td>100.0</td>\n",
       "      <td>2</td>\n",
       "    </tr>\n",
       "  </tbody>\n",
       "</table>\n",
       "</div>"
      ],
      "text/plain": [
       "      ids                         body class  sup   conf  len\n",
       "0  [1, 2]  (X=(0.333-0.666), Y=≥0.666)     0  223  100.0    2"
      ]
     },
     "metadata": {},
     "output_type": "display_data"
    },
    {
     "name": "stdout",
     "output_type": "stream",
     "text": [
      "class_prob - class_frequency = PI 0.79 0.328875 0.46112500000000006\n",
      "PI_approx 0.5038650000000156\n",
      "{'1,2': 0.5038650000000156}\n",
      "Error 0.04274000000001549\n",
      "\n",
      "\n",
      "compute_lace_step k=712\n",
      "Unique columns with k=712: [], 0.0\n",
      "712\n",
      "lev_1 - (1 rules)\n"
     ]
    },
    {
     "data": {
      "text/html": [
       "<div>\n",
       "<style scoped>\n",
       "    .dataframe tbody tr th:only-of-type {\n",
       "        vertical-align: middle;\n",
       "    }\n",
       "\n",
       "    .dataframe tbody tr th {\n",
       "        vertical-align: top;\n",
       "    }\n",
       "\n",
       "    .dataframe thead th {\n",
       "        text-align: right;\n",
       "    }\n",
       "</style>\n",
       "<table border=\"1\" class=\"dataframe\">\n",
       "  <thead>\n",
       "    <tr style=\"text-align: right;\">\n",
       "      <th></th>\n",
       "      <th>ids</th>\n",
       "      <th>body</th>\n",
       "      <th>class</th>\n",
       "      <th>sup</th>\n",
       "      <th>conf</th>\n",
       "      <th>len</th>\n",
       "    </tr>\n",
       "  </thead>\n",
       "  <tbody>\n",
       "    <tr>\n",
       "      <th>0</th>\n",
       "      <td>[1, 2]</td>\n",
       "      <td>(X=(0.333-0.666), Y=≥0.666)</td>\n",
       "      <td>0</td>\n",
       "      <td>239</td>\n",
       "      <td>100.0</td>\n",
       "      <td>2</td>\n",
       "    </tr>\n",
       "  </tbody>\n",
       "</table>\n",
       "</div>"
      ],
      "text/plain": [
       "      ids                         body class  sup   conf  len\n",
       "0  [1, 2]  (X=(0.333-0.666), Y=≥0.666)     0  239  100.0    2"
      ]
     },
     "metadata": {},
     "output_type": "display_data"
    },
    {
     "name": "stdout",
     "output_type": "stream",
     "text": [
      "class_prob - class_frequency = PI 0.79 0.328875 0.46112500000000006\n",
      "PI_approx 0.5038650000000156\n",
      "{'1,2': 0.5038650000000156}\n",
      "Error 0.04274000000001549\n",
      "\n",
      "\n",
      "compute_lace_step k=801\n",
      "Unique columns with k=801: [], 0.0\n",
      "801\n",
      "lev_1 - (1 rules)\n"
     ]
    },
    {
     "data": {
      "text/html": [
       "<div>\n",
       "<style scoped>\n",
       "    .dataframe tbody tr th:only-of-type {\n",
       "        vertical-align: middle;\n",
       "    }\n",
       "\n",
       "    .dataframe tbody tr th {\n",
       "        vertical-align: top;\n",
       "    }\n",
       "\n",
       "    .dataframe thead th {\n",
       "        text-align: right;\n",
       "    }\n",
       "</style>\n",
       "<table border=\"1\" class=\"dataframe\">\n",
       "  <thead>\n",
       "    <tr style=\"text-align: right;\">\n",
       "      <th></th>\n",
       "      <th>ids</th>\n",
       "      <th>body</th>\n",
       "      <th>class</th>\n",
       "      <th>sup</th>\n",
       "      <th>conf</th>\n",
       "      <th>len</th>\n",
       "    </tr>\n",
       "  </thead>\n",
       "  <tbody>\n",
       "    <tr>\n",
       "      <th>0</th>\n",
       "      <td>[1, 2]</td>\n",
       "      <td>(X=(0.333-0.666), Y=≥0.666)</td>\n",
       "      <td>0</td>\n",
       "      <td>262</td>\n",
       "      <td>100.0</td>\n",
       "      <td>2</td>\n",
       "    </tr>\n",
       "  </tbody>\n",
       "</table>\n",
       "</div>"
      ],
      "text/plain": [
       "      ids                         body class  sup   conf  len\n",
       "0  [1, 2]  (X=(0.333-0.666), Y=≥0.666)     0  262  100.0    2"
      ]
     },
     "metadata": {},
     "output_type": "display_data"
    },
    {
     "name": "stdout",
     "output_type": "stream",
     "text": [
      "class_prob - class_frequency = PI 0.79 0.328875 0.46112500000000006\n",
      "PI_approx 0.5038650000000156\n",
      "{'1,2': 0.5038650000000156}\n",
      "Error 0.04274000000001549\n",
      "\n",
      "\n",
      "compute_lace_step k=890\n",
      "Unique columns with k=890: [], 0.0\n",
      "890\n",
      "lev_1 - (1 rules)\n"
     ]
    },
    {
     "data": {
      "text/html": [
       "<div>\n",
       "<style scoped>\n",
       "    .dataframe tbody tr th:only-of-type {\n",
       "        vertical-align: middle;\n",
       "    }\n",
       "\n",
       "    .dataframe tbody tr th {\n",
       "        vertical-align: top;\n",
       "    }\n",
       "\n",
       "    .dataframe thead th {\n",
       "        text-align: right;\n",
       "    }\n",
       "</style>\n",
       "<table border=\"1\" class=\"dataframe\">\n",
       "  <thead>\n",
       "    <tr style=\"text-align: right;\">\n",
       "      <th></th>\n",
       "      <th>ids</th>\n",
       "      <th>body</th>\n",
       "      <th>class</th>\n",
       "      <th>sup</th>\n",
       "      <th>conf</th>\n",
       "      <th>len</th>\n",
       "    </tr>\n",
       "  </thead>\n",
       "  <tbody>\n",
       "    <tr>\n",
       "      <th>0</th>\n",
       "      <td>[1, 2]</td>\n",
       "      <td>(X=(0.333-0.666), Y=≥0.666)</td>\n",
       "      <td>0</td>\n",
       "      <td>278</td>\n",
       "      <td>100.0</td>\n",
       "      <td>2</td>\n",
       "    </tr>\n",
       "  </tbody>\n",
       "</table>\n",
       "</div>"
      ],
      "text/plain": [
       "      ids                         body class  sup   conf  len\n",
       "0  [1, 2]  (X=(0.333-0.666), Y=≥0.666)     0  278  100.0    2"
      ]
     },
     "metadata": {},
     "output_type": "display_data"
    },
    {
     "name": "stdout",
     "output_type": "stream",
     "text": [
      "class_prob - class_frequency = PI 0.79 0.328875 0.46112500000000006\n",
      "PI_approx 0.5038650000000156\n",
      "{'1,2': 0.5038650000000156}\n",
      "Error 0.04274000000001549\n",
      "\n",
      "\n",
      "compute_lace_step k=979\n",
      "Unique columns with k=979: [], 0.0\n",
      "979\n",
      "lev_1 - (1 rules)\n"
     ]
    },
    {
     "data": {
      "text/html": [
       "<div>\n",
       "<style scoped>\n",
       "    .dataframe tbody tr th:only-of-type {\n",
       "        vertical-align: middle;\n",
       "    }\n",
       "\n",
       "    .dataframe tbody tr th {\n",
       "        vertical-align: top;\n",
       "    }\n",
       "\n",
       "    .dataframe thead th {\n",
       "        text-align: right;\n",
       "    }\n",
       "</style>\n",
       "<table border=\"1\" class=\"dataframe\">\n",
       "  <thead>\n",
       "    <tr style=\"text-align: right;\">\n",
       "      <th></th>\n",
       "      <th>ids</th>\n",
       "      <th>body</th>\n",
       "      <th>class</th>\n",
       "      <th>sup</th>\n",
       "      <th>conf</th>\n",
       "      <th>len</th>\n",
       "    </tr>\n",
       "  </thead>\n",
       "  <tbody>\n",
       "    <tr>\n",
       "      <th>0</th>\n",
       "      <td>[1, 2]</td>\n",
       "      <td>(X=(0.333-0.666), Y=≥0.666)</td>\n",
       "      <td>0</td>\n",
       "      <td>296</td>\n",
       "      <td>100.0</td>\n",
       "      <td>2</td>\n",
       "    </tr>\n",
       "  </tbody>\n",
       "</table>\n",
       "</div>"
      ],
      "text/plain": [
       "      ids                         body class  sup   conf  len\n",
       "0  [1, 2]  (X=(0.333-0.666), Y=≥0.666)     0  296  100.0    2"
      ]
     },
     "metadata": {},
     "output_type": "display_data"
    },
    {
     "name": "stdout",
     "output_type": "stream",
     "text": [
      "class_prob - class_frequency = PI 0.79 0.328875 0.46112500000000006\n",
      "PI_approx 0.5038650000000156\n",
      "{'1,2': 0.5038650000000156}\n",
      "Error 0.04274000000001549\n",
      "\n",
      "\n",
      "compute_lace_step k=1068\n",
      "Unique columns with k=1068: [], 0.0\n",
      "1068\n",
      "lev_1 - (1 rules)\n"
     ]
    },
    {
     "data": {
      "text/html": [
       "<div>\n",
       "<style scoped>\n",
       "    .dataframe tbody tr th:only-of-type {\n",
       "        vertical-align: middle;\n",
       "    }\n",
       "\n",
       "    .dataframe tbody tr th {\n",
       "        vertical-align: top;\n",
       "    }\n",
       "\n",
       "    .dataframe thead th {\n",
       "        text-align: right;\n",
       "    }\n",
       "</style>\n",
       "<table border=\"1\" class=\"dataframe\">\n",
       "  <thead>\n",
       "    <tr style=\"text-align: right;\">\n",
       "      <th></th>\n",
       "      <th>ids</th>\n",
       "      <th>body</th>\n",
       "      <th>class</th>\n",
       "      <th>sup</th>\n",
       "      <th>conf</th>\n",
       "      <th>len</th>\n",
       "    </tr>\n",
       "  </thead>\n",
       "  <tbody>\n",
       "    <tr>\n",
       "      <th>0</th>\n",
       "      <td>[1, 2]</td>\n",
       "      <td>(X=(0.333-0.666), Y=≥0.666)</td>\n",
       "      <td>0</td>\n",
       "      <td>315</td>\n",
       "      <td>100.0</td>\n",
       "      <td>2</td>\n",
       "    </tr>\n",
       "  </tbody>\n",
       "</table>\n",
       "</div>"
      ],
      "text/plain": [
       "      ids                         body class  sup   conf  len\n",
       "0  [1, 2]  (X=(0.333-0.666), Y=≥0.666)     0  315  100.0    2"
      ]
     },
     "metadata": {},
     "output_type": "display_data"
    },
    {
     "name": "stdout",
     "output_type": "stream",
     "text": [
      "class_prob - class_frequency = PI 0.79 0.328875 0.46112500000000006\n",
      "PI_approx 0.5038650000000156\n",
      "{'1,2': 0.5038650000000156}\n",
      "Error 0.04274000000001549\n",
      "\n",
      "\n",
      "compute_lace_step k=1157\n",
      "Unique columns with k=1157: [], 0.0\n",
      "1157\n",
      "lev_1 - (1 rules)\n"
     ]
    },
    {
     "data": {
      "text/html": [
       "<div>\n",
       "<style scoped>\n",
       "    .dataframe tbody tr th:only-of-type {\n",
       "        vertical-align: middle;\n",
       "    }\n",
       "\n",
       "    .dataframe tbody tr th {\n",
       "        vertical-align: top;\n",
       "    }\n",
       "\n",
       "    .dataframe thead th {\n",
       "        text-align: right;\n",
       "    }\n",
       "</style>\n",
       "<table border=\"1\" class=\"dataframe\">\n",
       "  <thead>\n",
       "    <tr style=\"text-align: right;\">\n",
       "      <th></th>\n",
       "      <th>ids</th>\n",
       "      <th>body</th>\n",
       "      <th>class</th>\n",
       "      <th>sup</th>\n",
       "      <th>conf</th>\n",
       "      <th>len</th>\n",
       "    </tr>\n",
       "  </thead>\n",
       "  <tbody>\n",
       "    <tr>\n",
       "      <th>0</th>\n",
       "      <td>[1, 2]</td>\n",
       "      <td>(X=(0.333-0.666), Y=≥0.666)</td>\n",
       "      <td>0</td>\n",
       "      <td>337</td>\n",
       "      <td>100.0</td>\n",
       "      <td>2</td>\n",
       "    </tr>\n",
       "  </tbody>\n",
       "</table>\n",
       "</div>"
      ],
      "text/plain": [
       "      ids                         body class  sup   conf  len\n",
       "0  [1, 2]  (X=(0.333-0.666), Y=≥0.666)     0  337  100.0    2"
      ]
     },
     "metadata": {},
     "output_type": "display_data"
    },
    {
     "name": "stdout",
     "output_type": "stream",
     "text": [
      "class_prob - class_frequency = PI 0.79 0.328875 0.46112500000000006\n",
      "PI_approx 0.5038650000000156\n",
      "{'1,2': 0.5038650000000156}\n",
      "Error 0.04274000000001549\n",
      "\n",
      "\n",
      "compute_lace_step k=1246\n",
      "Unique columns with k=1246: [], 0.0\n",
      "1246\n",
      "lev_1 - (1 rules)\n"
     ]
    },
    {
     "data": {
      "text/html": [
       "<div>\n",
       "<style scoped>\n",
       "    .dataframe tbody tr th:only-of-type {\n",
       "        vertical-align: middle;\n",
       "    }\n",
       "\n",
       "    .dataframe tbody tr th {\n",
       "        vertical-align: top;\n",
       "    }\n",
       "\n",
       "    .dataframe thead th {\n",
       "        text-align: right;\n",
       "    }\n",
       "</style>\n",
       "<table border=\"1\" class=\"dataframe\">\n",
       "  <thead>\n",
       "    <tr style=\"text-align: right;\">\n",
       "      <th></th>\n",
       "      <th>ids</th>\n",
       "      <th>body</th>\n",
       "      <th>class</th>\n",
       "      <th>sup</th>\n",
       "      <th>conf</th>\n",
       "      <th>len</th>\n",
       "    </tr>\n",
       "  </thead>\n",
       "  <tbody>\n",
       "    <tr>\n",
       "      <th>0</th>\n",
       "      <td>[1, 2]</td>\n",
       "      <td>(X=(0.333-0.666), Y=≥0.666)</td>\n",
       "      <td>0</td>\n",
       "      <td>358</td>\n",
       "      <td>100.0</td>\n",
       "      <td>2</td>\n",
       "    </tr>\n",
       "  </tbody>\n",
       "</table>\n",
       "</div>"
      ],
      "text/plain": [
       "      ids                         body class  sup   conf  len\n",
       "0  [1, 2]  (X=(0.333-0.666), Y=≥0.666)     0  358  100.0    2"
      ]
     },
     "metadata": {},
     "output_type": "display_data"
    },
    {
     "name": "stdout",
     "output_type": "stream",
     "text": [
      "class_prob - class_frequency = PI 0.79 0.328875 0.46112500000000006\n",
      "PI_approx 0.5038650000000156\n",
      "{'1,2': 0.5038650000000156}\n",
      "Error 0.04274000000001549\n",
      "\n",
      "\n",
      "compute_lace_step k=1335\n",
      "Unique columns with k=1335: [], 0.0\n",
      "1335\n",
      "lev_1 - (1 rules)\n"
     ]
    },
    {
     "data": {
      "text/html": [
       "<div>\n",
       "<style scoped>\n",
       "    .dataframe tbody tr th:only-of-type {\n",
       "        vertical-align: middle;\n",
       "    }\n",
       "\n",
       "    .dataframe tbody tr th {\n",
       "        vertical-align: top;\n",
       "    }\n",
       "\n",
       "    .dataframe thead th {\n",
       "        text-align: right;\n",
       "    }\n",
       "</style>\n",
       "<table border=\"1\" class=\"dataframe\">\n",
       "  <thead>\n",
       "    <tr style=\"text-align: right;\">\n",
       "      <th></th>\n",
       "      <th>ids</th>\n",
       "      <th>body</th>\n",
       "      <th>class</th>\n",
       "      <th>sup</th>\n",
       "      <th>conf</th>\n",
       "      <th>len</th>\n",
       "    </tr>\n",
       "  </thead>\n",
       "  <tbody>\n",
       "    <tr>\n",
       "      <th>0</th>\n",
       "      <td>[1, 2]</td>\n",
       "      <td>(X=(0.333-0.666), Y=≥0.666)</td>\n",
       "      <td>0</td>\n",
       "      <td>379</td>\n",
       "      <td>100.0</td>\n",
       "      <td>2</td>\n",
       "    </tr>\n",
       "  </tbody>\n",
       "</table>\n",
       "</div>"
      ],
      "text/plain": [
       "      ids                         body class  sup   conf  len\n",
       "0  [1, 2]  (X=(0.333-0.666), Y=≥0.666)     0  379  100.0    2"
      ]
     },
     "metadata": {},
     "output_type": "display_data"
    },
    {
     "name": "stdout",
     "output_type": "stream",
     "text": [
      "class_prob - class_frequency = PI 0.79 0.328875 0.46112500000000006\n",
      "PI_approx 0.5038650000000156\n",
      "{'1,2': 0.5038650000000156}\n",
      "Error 0.04274000000001549\n",
      "\n",
      "\n",
      "compute_lace_step k=1424\n",
      "Unique columns with k=1424: [], 0.0\n",
      "1424\n",
      "lev_1 - (1 rules)\n"
     ]
    },
    {
     "data": {
      "text/html": [
       "<div>\n",
       "<style scoped>\n",
       "    .dataframe tbody tr th:only-of-type {\n",
       "        vertical-align: middle;\n",
       "    }\n",
       "\n",
       "    .dataframe tbody tr th {\n",
       "        vertical-align: top;\n",
       "    }\n",
       "\n",
       "    .dataframe thead th {\n",
       "        text-align: right;\n",
       "    }\n",
       "</style>\n",
       "<table border=\"1\" class=\"dataframe\">\n",
       "  <thead>\n",
       "    <tr style=\"text-align: right;\">\n",
       "      <th></th>\n",
       "      <th>ids</th>\n",
       "      <th>body</th>\n",
       "      <th>class</th>\n",
       "      <th>sup</th>\n",
       "      <th>conf</th>\n",
       "      <th>len</th>\n",
       "    </tr>\n",
       "  </thead>\n",
       "  <tbody>\n",
       "    <tr>\n",
       "      <th>0</th>\n",
       "      <td>[1, 2]</td>\n",
       "      <td>(X=(0.333-0.666), Y=≥0.666)</td>\n",
       "      <td>0</td>\n",
       "      <td>398</td>\n",
       "      <td>100.0</td>\n",
       "      <td>2</td>\n",
       "    </tr>\n",
       "  </tbody>\n",
       "</table>\n",
       "</div>"
      ],
      "text/plain": [
       "      ids                         body class  sup   conf  len\n",
       "0  [1, 2]  (X=(0.333-0.666), Y=≥0.666)     0  398  100.0    2"
      ]
     },
     "metadata": {},
     "output_type": "display_data"
    },
    {
     "name": "stdout",
     "output_type": "stream",
     "text": [
      "class_prob - class_frequency = PI 0.79 0.328875 0.46112500000000006\n",
      "PI_approx 0.5038650000000156\n",
      "{'1,2': 0.5038650000000156}\n",
      "Error 0.04274000000001549\n",
      "\n",
      "\n",
      "compute_lace_step k=1513\n",
      "Unique columns with k=1513: [], 0.0\n",
      "1513\n",
      "lev_1 - (1 rules)\n"
     ]
    },
    {
     "data": {
      "text/html": [
       "<div>\n",
       "<style scoped>\n",
       "    .dataframe tbody tr th:only-of-type {\n",
       "        vertical-align: middle;\n",
       "    }\n",
       "\n",
       "    .dataframe tbody tr th {\n",
       "        vertical-align: top;\n",
       "    }\n",
       "\n",
       "    .dataframe thead th {\n",
       "        text-align: right;\n",
       "    }\n",
       "</style>\n",
       "<table border=\"1\" class=\"dataframe\">\n",
       "  <thead>\n",
       "    <tr style=\"text-align: right;\">\n",
       "      <th></th>\n",
       "      <th>ids</th>\n",
       "      <th>body</th>\n",
       "      <th>class</th>\n",
       "      <th>sup</th>\n",
       "      <th>conf</th>\n",
       "      <th>len</th>\n",
       "    </tr>\n",
       "  </thead>\n",
       "  <tbody>\n",
       "    <tr>\n",
       "      <th>0</th>\n",
       "      <td>[1, 2]</td>\n",
       "      <td>(X=(0.333-0.666), Y=≥0.666)</td>\n",
       "      <td>0</td>\n",
       "      <td>418</td>\n",
       "      <td>100.0</td>\n",
       "      <td>2</td>\n",
       "    </tr>\n",
       "  </tbody>\n",
       "</table>\n",
       "</div>"
      ],
      "text/plain": [
       "      ids                         body class  sup   conf  len\n",
       "0  [1, 2]  (X=(0.333-0.666), Y=≥0.666)     0  418  100.0    2"
      ]
     },
     "metadata": {},
     "output_type": "display_data"
    },
    {
     "name": "stdout",
     "output_type": "stream",
     "text": [
      "class_prob - class_frequency = PI 0.79 0.328875 0.46112500000000006\n",
      "PI_approx 0.5038650000000156\n",
      "{'1,2': 0.5038650000000156}\n",
      "Error 0.04274000000001549\n",
      "{'Rule_1': (['X=(0.333-0.666)', 'Y=≥0.666'], '-->', '0')}\n",
      "['X=(0.333-0.666)', 'Y=≥0.666'] --> 0 418 support: 0.2762723066754792 confidence: 100.0 [1, 2]\n"
     ]
    },
    {
     "data": {
      "image/png": "[encoded data removed]",
      "text/plain": [
       "<Figure size 432x288 with 1 Axes>"
      ]
     },
     "metadata": {
      "needs_background": "light"
     },
     "output_type": "display_data"
    }
   ],
   "source": [
    "for id_i in [68]:\n",
    "    predicted_class=pc.predict_fn_class(pc.test.iloc[id_i].values.reshape(1,-1))[0]\n",
    "\n",
    "    featureMasking=True\n",
    "    instance = pc.d_explain[id_i]\n",
    "    infos = {\"model\": \"RF\"}\n",
    "    instance_discretized = pc.d_explain.getDiscretizedInstance(id_i)\n",
    "    explanation_fm = lace_explainer.explain_instance(\n",
    "        instance,\n",
    "        pc.class_names[predicted_class],\n",
    "        featureMasking=featureMasking,\n",
    "        discretizedInstance=instance_discretized,\n",
    "        verbose=True)\n",
    "    fig_lace =explanation_fm.plotExplanation(showRuleKey=False, retFig=True, fontsize=20)\n",
    "    explanation_fm.local_rules.printLocalRules()\n",
    "    if saveFig:\n",
    "        saveFigure(fig_lace, outputDirResults, id_i, \"lace\")\n",
    "    \n",
    "    iterations[id_i]=numberIterations(explanation_fm.errors)\n",
    "    approx_errors[id_i]=getFirstLastApproxError(explanation_fm.errors)"
   ]
  },
  {
   "cell_type": "code",
   "execution_count": 44,
   "metadata": {
    "ExecuteTime": {
     "end_time": "2021-04-26T12:44:57.818020Z",
     "start_time": "2021-04-26T12:44:57.691997Z"
    }
   },
   "outputs": [
    {
     "data": {
      "text/plain": [
       "{'1,2,3': 0.4731887500000159}"
      ]
     },
     "execution_count": 44,
     "metadata": {},
     "output_type": "execute_result"
    }
   ],
   "source": [
    "explanation_fm.estimateUserRule(list(range(1,4)), predicted_class)"
   ]
  },
  {
   "cell_type": "markdown",
   "metadata": {
    "ExecuteTime": {
     "end_time": "2021-03-15T10:45:43.497321Z",
     "start_time": "2021-03-15T10:45:43.495609Z"
    }
   },
   "source": [
    "# Evaluation"
   ]
  },
  {
   "cell_type": "code",
   "execution_count": 17,
   "metadata": {
    "ExecuteTime": {
     "end_time": "2021-04-26T10:26:27.553886Z",
     "start_time": "2021-04-26T10:26:27.551444Z"
    }
   },
   "outputs": [],
   "source": [
    "showExplanation=False\n",
    "n_explanations=100"
   ]
  },
  {
   "cell_type": "code",
   "execution_count": 18,
   "metadata": {
    "ExecuteTime": {
     "end_time": "2021-04-26T10:26:27.777279Z",
     "start_time": "2021-04-26T10:26:27.556712Z"
    }
   },
   "outputs": [],
   "source": [
    "iterations={}\n",
    "approx_errors={}"
   ]
  },
  {
   "cell_type": "markdown",
   "metadata": {},
   "source": [
    "## Heuristic"
   ]
  },
  {
   "cell_type": "code",
   "execution_count": 19,
   "metadata": {
    "ExecuteTime": {
     "end_time": "2021-04-26T10:29:18.859611Z",
     "start_time": "2021-04-26T10:26:27.779221Z"
    },
    "scrolled": true
   },
   "outputs": [
    {
     "name": "stdout",
     "output_type": "stream",
     "text": [
      "0 1 2 3 4 5 6 7 8 9 10 11 12 13 14 15 16 17 18 19 20 21 22 23 24 25 26 27 28 29 30 31 32 33 34 35 36 37 38 39 40 41 42 43 44 45 46 47 48 49 50 51 52 53 54 55 56 57 58 59 60 61 62 63 64 65 66 67 68 69 70 71 72 73 74 75 76 77 78 79 80 81 82 83 84 85 86 87 88 89 90 91 92 93 94 95 96 97 98 99 \n"
     ]
    }
   ],
   "source": [
    "for id_i in range(0,n_explanations):\n",
    "    print(id_i, end=\" \")\n",
    "    predicted_class=pc.predict_fn_class(pc.test.iloc[id_i].values.reshape(1,-1))[0]\n",
    "    \n",
    "    \n",
    "    featureMasking=True\n",
    "    instance = pc.d_explain[id_i]\n",
    "    infos = {\"model\": classifier_name}\n",
    "    instance_discretized = pc.d_explain.getDiscretizedInstance(id_i)\n",
    "    explanation_fm = lace_explainer.explain_instance(\n",
    "        instance,\n",
    "        pc.class_names[predicted_class],\n",
    "        featureMasking=featureMasking,\n",
    "        discretizedInstance=instance_discretized,\n",
    "        verbose=False)\n",
    "    if showExplanation:\n",
    "        fig_lace =explanation_fm.plotExplanation(showRuleKey=False, retFig=True)\n",
    "        #explanation_fm.local_rules.printLocalRules()\n",
    "        if saveFig:\n",
    "            saveFigure(fig_lace, outdir_lace, id_i, \"lace\")\n",
    "        changes=explanation_fm.estimateSingleAttributeChangePrediction()\n",
    "        if changes:\n",
    "            print(changes)\n",
    "    iterations[id_i]=numberIterations(explanation_fm.errors)\n",
    "    approx_errors[id_i]=getFirstLastApproxError(explanation_fm.errors)\n",
    "    \n",
    "print()"
   ]
  },
  {
   "cell_type": "markdown",
   "metadata": {},
   "source": [
    "### Heuristic recap"
   ]
  },
  {
   "cell_type": "code",
   "execution_count": 23,
   "metadata": {
    "ExecuteTime": {
     "end_time": "2021-04-26T10:33:48.348822Z",
     "start_time": "2021-04-26T10:33:48.309704Z"
    }
   },
   "outputs": [
    {
     "name": "stdout",
     "output_type": "stream",
     "text": [
      "{0: 6, 1: 7, 2: 6, 3: 7, 4: 6, 5: 6, 6: 6, 7: 6, 8: 6, 9: 6, 10: 6, 11: 6, 12: 6, 13: 6, 14: 6, 15: 6, 16: 6, 17: 6, 18: 7, 19: 6, 20: 6, 21: 6, 22: 6, 23: 6, 24: 6, 25: 6, 26: 6, 27: 6, 28: 6, 29: 6, 30: 6, 31: 6, 32: 6, 33: 6, 34: 6, 35: 6, 36: 6, 37: 6, 38: 7, 39: 6, 40: 6, 41: 6, 42: 6, 43: 7, 44: 6, 45: 6, 46: 6, 47: 7, 48: 6, 49: 6, 50: 6, 51: 7, 52: 6, 53: 6, 54: 6, 55: 6, 56: 7, 57: 6, 58: 6, 59: 6, 60: 6, 61: 6, 62: 7, 63: 7, 64: 6, 65: 6, 66: 6, 67: 6, 68: 6, 69: 6, 70: 6, 71: 6, 72: 6, 73: 6, 74: 6, 75: 6, 76: 6, 77: 7, 78: 7, 79: 7, 80: 6, 81: 6, 82: 6, 83: 6, 84: 6, 85: 6, 86: 6, 87: 6, 88: 7, 89: 6, 90: 6, 91: 6, 92: 6, 93: 6, 94: 6, 95: 7, 96: 6, 97: 6, 98: 7, 99: 7}\n",
      "{'min': 6, 'max': 7, 'mean': 6.17, 'stdev': 0.3775251680686369}\n"
     ]
    }
   ],
   "source": [
    "from statistics import mean, stdev\n",
    "print(iterations)\n",
    "n_iterations=list(iterations.values())\n",
    "\n",
    "stats_iterations={\"min\":min(n_iterations), \"max\":max(n_iterations), \"mean\":mean(n_iterations), \"stdev\":stdev(n_iterations)}\n",
    "print(stats_iterations)\n",
    "if saveResults:\n",
    "    saveJson(stats_iterations, \"stats_iterations\", outputDirResults)"
   ]
  },
  {
   "cell_type": "code",
   "execution_count": 24,
   "metadata": {
    "ExecuteTime": {
     "end_time": "2021-04-26T10:33:51.081455Z",
     "start_time": "2021-04-26T10:33:51.035951Z"
    }
   },
   "outputs": [
    {
     "name": "stdout",
     "output_type": "stream",
     "text": [
      "{0: (1, 0.0), 1: (1, 0.0), 2: (1, 0.0), 3: (1, 0.0), 4: (1, 0.0), 5: (1, 0.0), 6: (1, 0.0), 7: (1, 0.0), 8: (1, 0.0), 9: (1, 0.0), 10: (1, 0.0), 11: (1, 0.0), 12: (1, 0.0), 13: (1, 0.0), 14: (1, 0.0), 15: (1, 0.0), 16: (1, 0.0), 17: (1, 0.0), 18: (1, 0.0), 19: (1, 0.0), 20: (1, 0.0), 21: (1, 0.0), 22: (1, 0.0), 23: (1, 0.0), 24: (1, 0.0), 25: (1, 0.0), 26: (1, 0.0), 27: (1, 0.0), 28: (1, 0.0), 29: (1, 0.0), 30: (1, 0.0), 31: (1, 0.0), 32: (1, 0.0), 33: (1, 0.0), 34: (1, 0.0), 35: (1, 0.0), 36: (1, 0.0), 37: (1, 0.0), 38: (1, 0.0), 39: (1, 0.0), 40: (1, 0.0), 41: (1, 0.0), 42: (1, 0.0), 43: (1, 0.0), 44: (1, 0.0), 45: (1, 0.0), 46: (1, 0.0), 47: (1, 0.0), 48: (1, 0.0), 49: (1, 0.0), 50: (1, 0.0), 51: (1, 0.0), 52: (1, 0.0), 53: (1, 0.0), 54: (1, 0.0), 55: (1, 0.0), 56: (1, 0.0), 57: (1, 0.0), 58: (1, 0.0), 59: (1, 0.0), 60: (1, 0.0), 61: (1, 0.0), 62: (1, 0.0), 63: (1, 0.0), 64: (1, 0.0), 65: (1, 0.0), 66: (1, 0.0), 67: (1, 0.0), 68: (1, 0.0), 69: (1, 0.0), 70: (1, 0.0), 71: (1, 0.0), 72: (1, 0.0), 73: (1, 0.0), 74: (1, 0.0), 75: (1, 0.0), 76: (1, 0.0), 77: (1, 0.0), 78: (1, 0.0), 79: (1, 0.0), 80: (1, 0.0), 81: (1, 0.0), 82: (1, 0.0), 83: (1, 0.0), 84: (1, 0.0), 85: (1, 0.0), 86: (1, 0.0), 87: (1, 0.0), 88: (1, 0.0), 89: (1, 0.0), 90: (1, 0.0), 91: (1, 0.0), 92: (1, 0.0), 93: (1, 0.0), 94: (1, 0.0), 95: (1, 0.0), 96: (1, 0.0), 97: (1, 0.0), 98: (1, 0.0), 99: (1, 0.0)}\n"
     ]
    }
   ],
   "source": [
    "print(approx_errors)\n",
    "if saveResults:\n",
    "    saveJson(approx_errors, \"approx_errors\", outputDirResults)"
   ]
  },
  {
   "cell_type": "code",
   "execution_count": 25,
   "metadata": {
    "ExecuteTime": {
     "end_time": "2021-04-26T10:33:55.966494Z",
     "start_time": "2021-04-26T10:33:55.931603Z"
    }
   },
   "outputs": [
    {
     "name": "stdout",
     "output_type": "stream",
     "text": [
      "{'min': 1.0, 'max': 1.0, 'mean': 1.0, 'stdev': 0.0}\n"
     ]
    }
   ],
   "source": [
    "approx_errors_v=list(approx_errors.values())\n",
    "from statistics import mean, stdev\n",
    "delta_approx=[v[0]-v[1] for v in approx_errors_v]\n",
    "\n",
    "stats_approx_error={\"min\":min(delta_approx), \"max\":max(delta_approx), \"mean\":mean(delta_approx), \"stdev\":stdev(delta_approx)}\n",
    "\n",
    "print(stats_approx_error)\n",
    "if saveResults:\n",
    "    saveJson(stats_approx_error, \"stats_approx_error\", outputDirResults)"
   ]
  }
 ],
 "metadata": {
  "hide_input": false,
  "kernelspec": {
   "display_name": "Python 3",
   "language": "python",
   "name": "python3"
  },
  "language_info": {
   "codemirror_mode": {
    "name": "ipython",
    "version": 3
   },
   "file_extension": ".py",
   "mimetype": "text/x-python",
   "name": "python",
   "nbconvert_exporter": "python",
   "pygments_lexer": "ipython3",
   "version": "3.7.9"
  },
  "toc": {
   "base_numbering": 1,
   "nav_menu": {},
   "number_sections": true,
   "sideBar": true,
   "skip_h1_title": false,
   "title_cell": "Table of Contents",
   "title_sidebar": "Contents",
   "toc_cell": false,
   "toc_position": {
    "height": "406px",
    "left": "573px",
    "top": "110px",
    "width": "282px"
   },
   "toc_section_display": true,
   "toc_window_display": true
  },
  "varInspector": {
   "cols": {
    "lenName": 16,
    "lenType": 16,
    "lenVar": 40
   },
   "kernels_config": {
    "python": {
     "delete_cmd_postfix": "",
     "delete_cmd_prefix": "del ",
     "library": "var_list.py",
     "varRefreshCmd": "print(var_dic_list())"
    },
    "r": {
     "delete_cmd_postfix": ") ",
     "delete_cmd_prefix": "rm(",
     "library": "var_list.r",
     "varRefreshCmd": "cat(var_dic_list()) "
    }
   },
   "types_to_exclude": [
    "module",
    "function",
    "builtin_function_or_method",
    "instance",
    "_Feature"
   ],
   "window_display": false
  }
 },
 "nbformat": 4,
 "nbformat_minor": 4
}
